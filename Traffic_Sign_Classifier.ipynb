{
 "cells": [
  {
   "cell_type": "markdown",
   "metadata": {},
   "source": [
    "# Self-Driving Car Engineer Nanodegree\n",
    "\n",
    "## Deep Learning\n",
    "\n",
    "## Project: Build a Traffic Sign Recognition Classifier\n",
    "\n",
    "In this notebook, a template is provided for you to implement your functionality in stages, which is required to successfully complete this project. If additional code is required that cannot be included in the notebook, be sure that the Python code is successfully imported and included in your submission if necessary. \n",
    "\n",
    "> **Note**: Once you have completed all of the code implementations, you need to finalize your work by exporting the iPython Notebook as an HTML document. Before exporting the notebook to html, all of the code cells need to have been run so that reviewers can see the final implementation and output. You can then export the notebook by using the menu above and navigating to  \\n\",\n",
    "    \"**File -> Download as -> HTML (.html)**. Include the finished document along with this notebook as your submission. \n",
    "\n",
    "In addition to implementing code, there is a writeup to complete. The writeup should be completed in a separate file, which can be either a markdown file or a pdf document. There is a [write up template](https://github.com/udacity/CarND-Traffic-Sign-Classifier-Project/blob/master/writeup_template.md) that can be used to guide the writing process. Completing the code template and writeup template will cover all of the [rubric points](https://review.udacity.com/#!/rubrics/481/view) for this project.\n",
    "\n",
    "The [rubric](https://review.udacity.com/#!/rubrics/481/view) contains \"Stand Out Suggestions\" for enhancing the project beyond the minimum requirements. The stand out suggestions are optional. If you decide to pursue the \"stand out suggestions\", you can include the code in this Ipython notebook and also discuss the results in the writeup file.\n",
    "\n",
    "\n",
    ">**Note:** Code and Markdown cells can be executed using the **Shift + Enter** keyboard shortcut. In addition, Markdown cells can be edited by typically double-clicking the cell to enter edit mode."
   ]
  },
  {
   "cell_type": "markdown",
   "metadata": {},
   "source": [
    "---\n",
    "## Step 0: Load The Data"
   ]
  },
  {
   "cell_type": "code",
   "execution_count": 67,
   "metadata": {
    "collapsed": false
   },
   "outputs": [],
   "source": [
    "# Load pickled data\n",
    "import pickle\n",
    "\n",
    "training_file = './traffic-signs-data/train.p'\n",
    "validation_file= './traffic-signs-data/valid.p'\n",
    "testing_file = './traffic-signs-data/test.p'\n",
    "\n",
    "with open(training_file, mode='rb') as f:\n",
    "    train = pickle.load(f)\n",
    "with open(validation_file, mode='rb') as f:\n",
    "    valid = pickle.load(f)\n",
    "with open(testing_file, mode='rb') as f:\n",
    "    test = pickle.load(f)\n",
    "    \n",
    "X_train, y_train = train['features'], train['labels']\n",
    "X_valid, y_valid = valid['features'], valid['labels']\n",
    "X_test, y_test = test['features'], test['labels']"
   ]
  },
  {
   "cell_type": "markdown",
   "metadata": {},
   "source": [
    "---\n",
    "\n",
    "## Step 1: Dataset Summary & Exploration\n",
    "\n",
    "The pickled data is a dictionary with 4 key/value pairs:\n",
    "\n",
    "- `'features'` is a 4D array containing raw pixel data of the traffic sign images, (num examples, width, height, channels).\n",
    "- `'labels'` is a 1D array containing the label/class id of the traffic sign. The file `signnames.csv` contains id -> name mappings for each id.\n",
    "- `'sizes'` is a list containing tuples, (width, height) representing the the original width and height the image.\n",
    "- `'coords'` is a list containing tuples, (x1, y1, x2, y2) representing coordinates of a bounding box around the sign in the image. **THESE COORDINATES ASSUME THE ORIGINAL IMAGE. THE PICKLED DATA CONTAINS RESIZED VERSIONS (32 by 32) OF THESE IMAGES**\n",
    "\n",
    "Complete the basic data summary below. Use python, numpy and/or pandas methods to calculate the data summary rather than hard coding the results. For example, the [pandas shape method](http://pandas.pydata.org/pandas-docs/stable/generated/pandas.DataFrame.shape.html) might be useful for calculating some of the summary results. "
   ]
  },
  {
   "cell_type": "markdown",
   "metadata": {},
   "source": [
    "### Provide a Basic Summary of the Data Set Using Python, Numpy and/or Pandas"
   ]
  },
  {
   "cell_type": "code",
   "execution_count": 68,
   "metadata": {
    "collapsed": false
   },
   "outputs": [
    {
     "name": "stdout",
     "output_type": "stream",
     "text": [
      "Number of training examples = 34799\n",
      "Number of testing examples = 12630\n",
      "Image data shape = (32, 32, 3)\n",
      "Number of classes = 43\n"
     ]
    }
   ],
   "source": [
    "### Replace each question mark with the appropriate value. \n",
    "### Use python, pandas or numpy methods rather than hard coding the results\n",
    "\n",
    "# TODO: Number of training examples\n",
    "n_train = X_train.shape[0]\n",
    "\n",
    "# TODO: Number of testing examples.\n",
    "n_test = X_test.shape[0]\n",
    "\n",
    "# TODO: What's the shape of an traffic sign image?\n",
    "image_shape = X_train[0].shape\n",
    "\n",
    "# TODO: How many unique classes/labels there are in the dataset.\n",
    "n_classes = len(set(y_train))\n",
    "\n",
    "print(\"Number of training examples =\", n_train)\n",
    "print(\"Number of testing examples =\", n_test)\n",
    "print(\"Image data shape =\", image_shape)\n",
    "print(\"Number of classes =\", n_classes)"
   ]
  },
  {
   "cell_type": "markdown",
   "metadata": {},
   "source": [
    "### Include an exploratory visualization of the dataset"
   ]
  },
  {
   "cell_type": "markdown",
   "metadata": {},
   "source": [
    "Visualize the German Traffic Signs Dataset using the pickled file(s). This is open ended, suggestions include: plotting traffic sign images, plotting the count of each sign, etc.\n",
    "\n",
    "The [Matplotlib](http://matplotlib.org/) [examples](http://matplotlib.org/examples/index.html) and [gallery](http://matplotlib.org/gallery.html) pages are a great resource for doing visualizations in Python.\n",
    "\n",
    "**NOTE:** It's recommended you start with something simple first. If you wish to do more, come back to it after you've completed the rest of the sections."
   ]
  },
  {
   "cell_type": "code",
   "execution_count": 69,
   "metadata": {
    "collapsed": false
   },
   "outputs": [
    {
     "data": {
      "image/png": "[encoded data removed]",
      "text/plain": [
       "<matplotlib.figure.Figure at 0x14c539f28>"
      ]
     },
     "metadata": {},
     "output_type": "display_data"
    }
   ],
   "source": [
    "### Data exploration visualization code goes here.\n",
    "### Feel free to use as many code cells as needed.\n",
    "import matplotlib.pyplot as plt\n",
    "import matplotlib.cm\n",
    "import random\n",
    "# Visualizations will be shown in the notebook.\n",
    "%matplotlib inline\n",
    "\n",
    "def display_random_images(x, y, x_cnt=5, y_cnt=2):\n",
    "    plt.rcdefaults()\n",
    "    \n",
    "    fig, axes = plt.subplots(y_cnt, x_cnt, figsize=(12, 4))\n",
    "    fig.subplots_adjust(hspace=0.5, wspace=0.05)\n",
    "    for ax in axes.flat:\n",
    "        idx = random.randint(0, len(x))\n",
    "        if len(x[idx].shape) < 3 or x[idx].shape[2] == 1:\n",
    "            img = x[idx].copy()\n",
    "            ax.imshow(img.reshape(img.shape[0:2]), cmap=matplotlib.cm.gray)\n",
    "        else:\n",
    "            ax.imshow(x[idx])\n",
    "        ax.set_title(\"class={}\".format(y[idx]))\n",
    "        ax.axis('off')\n",
    "    \n",
    "    plt.show()\n",
    "\n",
    "\n",
    "def display_images(images, y_cnt, x_cnt):\n",
    "    plt.rcdefaults()\n",
    "    \n",
    "    fig, axes = plt.subplots(y_cnt, x_cnt, figsize=(2, 2))\n",
    "    fig.subplots_adjust(hspace=0.5, wspace=0.05)\n",
    "    idx = 0\n",
    "    for ax in axes.flat:\n",
    "        image = images[idx]\n",
    "        if len(image.shape) < 3 or image.shape[2] == 1:\n",
    "            img = image.copy()\n",
    "            ax.imshow(img.reshape(img.shape[0:2]), cmap=matplotlib.cm.gray)\n",
    "        else:\n",
    "            ax.imshow(image)\n",
    "        idx += 1\n",
    "        #ax.set_title(\"class={}\".format(y[idx]))\n",
    "        ax.axis('off')\n",
    "    \n",
    "    plt.show()\n",
    "    \n",
    "display_random_images(X_train, y_train)"
   ]
  },
  {
   "cell_type": "code",
   "execution_count": 70,
   "metadata": {
    "collapsed": false
   },
   "outputs": [
    {
     "data": {
      "image/png": "[encoded data removed]",
      "text/plain": [
       "<matplotlib.figure.Figure at 0x14c8924a8>"
      ]
     },
     "metadata": {},
     "output_type": "display_data"
    }
   ],
   "source": [
    "def count_by_class(y_train):\n",
    "    result = {}\n",
    "    for cls in y_train:\n",
    "        if cls not in result:\n",
    "            result[cls] = 1\n",
    "        else:\n",
    "            result[cls] += 1\n",
    "    return result\n",
    "\n",
    "def group_by_class(x_train, y_train):\n",
    "    \"\"\"Returns {cls: [idx of items in x_train with class cls], ...}\n",
    "    \"\"\"\n",
    "    result = {}\n",
    "    for idx in range(len(x_train)):\n",
    "        cls = y_train[idx]\n",
    "        result.setdefault(cls, []).append(idx)\n",
    "    return result\n",
    "\n",
    "def plot_counts_by_class(y_train, title):\n",
    "    counts = count_by_class(y_train)\n",
    "    sorted_keys = sorted(counts.keys())\n",
    "    sorted_values = [counts[k] for k in sorted_keys]\n",
    "\n",
    "    plt.rcdefaults()\n",
    "    fig, ax = plt.subplots(figsize=(12, 5))\n",
    "    ax.bar(sorted_keys, sorted_values, width=0.75)\n",
    "    ax.set_xticks(sorted_keys)\n",
    "    ax.set_xlabel('Class')\n",
    "    ax.set_title(title)\n",
    "    plt.show()\n",
    "\n",
    "plot_counts_by_class(y_train, 'Training examples by class')\n",
    "#plot_counts_by_class(y_test, 'Test examples by class')"
   ]
  },
  {
   "cell_type": "markdown",
   "metadata": {},
   "source": [
    "----\n",
    "\n",
    "## Step 2: Design and Test a Model Architecture\n",
    "\n",
    "Design and implement a deep learning model that learns to recognize traffic signs. Train and test your model on the [German Traffic Sign Dataset](http://benchmark.ini.rub.de/?section=gtsrb&subsection=dataset).\n",
    "\n",
    "There are various aspects to consider when thinking about this problem:\n",
    "\n",
    "- Neural network architecture\n",
    "- Play around preprocessing techniques (normalization, rgb to grayscale, etc)\n",
    "- Number of examples per label (some have more than others).\n",
    "- Generate fake data.\n",
    "\n",
    "Here is an example of a [published baseline model on this problem](http://yann.lecun.com/exdb/publis/pdf/sermanet-ijcnn-11.pdf). It's not required to be familiar with the approach used in the paper but, it's good practice to try to read papers like these.\n",
    "\n",
    "**NOTE:** The LeNet-5 implementation shown in the [classroom](https://classroom.udacity.com/nanodegrees/nd013/parts/fbf77062-5703-404e-b60c-95b78b2f3f9e/modules/6df7ae49-c61c-4bb2-a23e-6527e69209ec/lessons/601ae704-1035-4287-8b11-e2c2716217ad/concepts/d4aca031-508f-4e0b-b493-e7b706120f81) at the end of the CNN lesson is a solid starting point. You'll have to change the number of classes and possibly the preprocessing, but aside from that it's plug and play!"
   ]
  },
  {
   "cell_type": "markdown",
   "metadata": {},
   "source": [
    "### Pre-process the Data Set (normalization, grayscale, etc.)"
   ]
  },
  {
   "cell_type": "markdown",
   "metadata": {},
   "source": [
    "Use the code cell (or multiple code cells, if necessary) to implement the first step of your project."
   ]
  },
  {
   "cell_type": "code",
   "execution_count": 71,
   "metadata": {
    "collapsed": true
   },
   "outputs": [],
   "source": [
    "from skimage.util import dtype\n",
    "\n",
    "def _prepare_colorarray(arr):\n",
    "    \"\"\"Check the shape of the array and convert it to\n",
    "    floating point representation.\n",
    "    \"\"\"\n",
    "    arr = np.asanyarray(arr)\n",
    "\n",
    "    if arr.ndim not in [3, 4] or arr.shape[-1] != 3:\n",
    "        msg = (\"the input array must be have a shape == (.., ..,[ ..,] 3)), \" +\n",
    "               \"got (\" + (\", \".join(map(str, arr.shape))) + \")\")\n",
    "        raise ValueError(msg)\n",
    "\n",
    "    return dtype.img_as_float(arr)\n",
    "\n",
    "\n",
    "def rgb2hsv(rgb):\n",
    "    \"\"\"RGB to HSV color space conversion.\n",
    "    Parameters\n",
    "    ----------\n",
    "    rgb : array_like\n",
    "        The image in RGB format, in a 3-D array of shape ``(.., .., 3)``.\n",
    "    Returns\n",
    "    -------\n",
    "    out : ndarray\n",
    "        The image in HSV format, in a 3-D array of shape ``(.., .., 3)``.\n",
    "    Raises\n",
    "    ------\n",
    "    ValueError\n",
    "        If `rgb` is not a 3-D array of shape ``(.., .., 3)``.\n",
    "    Notes\n",
    "    -----\n",
    "    Conversion between RGB and HSV color spaces results in some loss of\n",
    "    precision, due to integer arithmetic and rounding [1]_.\n",
    "    References\n",
    "    ----------\n",
    "    .. [1] http://en.wikipedia.org/wiki/HSL_and_HSV\n",
    "    Examples\n",
    "    --------\n",
    "    >>> from skimage import color\n",
    "    >>> from skimage import data\n",
    "    >>> img = data.astronaut()\n",
    "    >>> img_hsv = color.rgb2hsv(img)\n",
    "    \"\"\"\n",
    "    arr = _prepare_colorarray(rgb)\n",
    "    out = np.empty_like(arr)\n",
    "\n",
    "    # -- V channel\n",
    "    out_v = arr.max(-1)\n",
    "\n",
    "    # -- S channel\n",
    "    delta = arr.ptp(-1)\n",
    "    # Ignore warning for zero divided by zero\n",
    "    old_settings = np.seterr(invalid='ignore')\n",
    "    out_s = delta / out_v\n",
    "    out_s[delta == 0.] = 0.\n",
    "\n",
    "    # -- H channel\n",
    "    # red is max\n",
    "    idx = (arr[:, :, 0] == out_v)\n",
    "    out[idx, 0] = (arr[idx, 1] - arr[idx, 2]) / delta[idx]\n",
    "\n",
    "    # green is max\n",
    "    idx = (arr[:, :, 1] == out_v)\n",
    "    out[idx, 0] = 2. + (arr[idx, 2] - arr[idx, 0]) / delta[idx]\n",
    "\n",
    "    # blue is max\n",
    "    idx = (arr[:, :, 2] == out_v)\n",
    "    out[idx, 0] = 4. + (arr[idx, 0] - arr[idx, 1]) / delta[idx]\n",
    "    out_h = (out[:, :, 0] / 6.) % 1.\n",
    "    out_h[delta == 0.] = 0.\n",
    "\n",
    "    np.seterr(**old_settings)\n",
    "\n",
    "    # -- output\n",
    "    out[:, :, 0] = out_h\n",
    "    out[:, :, 1] = out_s\n",
    "    out[:, :, 2] = out_v\n",
    "\n",
    "    # remove NaN\n",
    "    out[np.isnan(out)] = 0\n",
    "\n",
    "    return out\n",
    "\n",
    "\n",
    "def _convert(matrix, arr):\n",
    "    \"\"\"Do the color space conversion.\n",
    "    Parameters\n",
    "    ----------\n",
    "    matrix : array_like\n",
    "        The 3x3 matrix to use.\n",
    "    arr : array_like\n",
    "        The input array.\n",
    "    Returns\n",
    "    -------\n",
    "    out : ndarray, dtype=float\n",
    "        The converted array.\n",
    "    \"\"\"\n",
    "    arr = _prepare_colorarray(arr)\n",
    "\n",
    "    return np.dot(arr, matrix.T.copy())\n",
    "\n",
    "\n",
    "yuv_from_rgb = np.array([[ 0.299     ,  0.587     ,  0.114      ],\n",
    "                         [-0.14714119, -0.28886916,  0.43601035 ],\n",
    "                         [ 0.61497538, -0.51496512, -0.10001026 ]])\n",
    "\n",
    "def rgb2yuv(rgb):\n",
    "    \"\"\"RGB to YUV color space conversion.\n",
    "    Parameters\n",
    "    ----------\n",
    "    rgb : array_like\n",
    "        The image in RGB format, in a 3- or 4-D array of shape\n",
    "        ``(M, N, [P,] 3)``.\n",
    "    Returns\n",
    "    -------\n",
    "    out : ndarray\n",
    "        The image in YUV format, in a 3- or 4-D array of shape\n",
    "        ``(M, N, [P,] 3)``.\n",
    "    Raises\n",
    "    ------\n",
    "    ValueError\n",
    "        If `rgb` is not a 3- or 4-D array of shape ``(M, N, [P,] 3)``.\n",
    "    Notes\n",
    "    -----\n",
    "    Y is between 0 and 1.  Use YCbCr instead of YUV for the color space which\n",
    "    is commonly used by video codecs (where Y ranges from 16 to 235)\n",
    "    References\n",
    "    ----------\n",
    "    .. [1] https://en.wikipedia.org/wiki/YUV\n",
    "    \"\"\"\n",
    "    return _convert(yuv_from_rgb, rgb)\n",
    "\n",
    "\n",
    "from skimage.color import rgb2grey\n",
    "\n",
    "def greyscale(data):\n",
    "    output_shape = list(data.shape)\n",
    "    output_shape[3] = 1\n",
    "    return rgb2grey(data).reshape(output_shape)"
   ]
  },
  {
   "cell_type": "code",
   "execution_count": 72,
   "metadata": {
    "collapsed": false
   },
   "outputs": [
    {
     "name": "stdout",
     "output_type": "stream",
     "text": [
      "Processing 0 out of 34799\n"
     ]
    },
    {
     "name": "stderr",
     "output_type": "stream",
     "text": [
      "/Users/anton/miniconda3/envs/IntroToTensorFlow/lib/python3.6/site-packages/skimage/util/dtype.py:110: UserWarning: Possible precision loss when converting from float64 to uint16\n",
      "  \"%s to %s\" % (dtypeobj_in, dtypeobj))\n"
     ]
    },
    {
     "name": "stdout",
     "output_type": "stream",
     "text": [
      "Processing 500 out of 34799\n",
      "Processing 1000 out of 34799\n",
      "Processing 1500 out of 34799\n",
      "Processing 2000 out of 34799\n",
      "Processing 2500 out of 34799\n",
      "Processing 3000 out of 34799\n",
      "Processing 3500 out of 34799\n",
      "Processing 4000 out of 34799\n",
      "Processing 4500 out of 34799\n",
      "Processing 5000 out of 34799\n",
      "Processing 5500 out of 34799\n",
      "Processing 6000 out of 34799\n",
      "Processing 6500 out of 34799\n",
      "Processing 7000 out of 34799\n",
      "Processing 7500 out of 34799\n",
      "Processing 8000 out of 34799\n",
      "Processing 8500 out of 34799\n",
      "Processing 9000 out of 34799\n",
      "Processing 9500 out of 34799\n",
      "Processing 10000 out of 34799\n",
      "Processing 10500 out of 34799\n",
      "Processing 11000 out of 34799\n",
      "Processing 11500 out of 34799\n",
      "Processing 12000 out of 34799\n",
      "Processing 12500 out of 34799\n",
      "Processing 13000 out of 34799\n",
      "Processing 13500 out of 34799\n",
      "Processing 14000 out of 34799\n",
      "Processing 14500 out of 34799\n",
      "Processing 15000 out of 34799\n",
      "Processing 15500 out of 34799\n",
      "Processing 16000 out of 34799\n",
      "Processing 16500 out of 34799\n",
      "Processing 17000 out of 34799\n",
      "Processing 17500 out of 34799\n",
      "Processing 18000 out of 34799\n",
      "Processing 18500 out of 34799\n",
      "Processing 19000 out of 34799\n",
      "Processing 19500 out of 34799\n",
      "Processing 20000 out of 34799\n",
      "Processing 20500 out of 34799\n",
      "Processing 21000 out of 34799\n",
      "Processing 21500 out of 34799\n",
      "Processing 22000 out of 34799\n",
      "Processing 22500 out of 34799\n",
      "Processing 23000 out of 34799\n",
      "Processing 23500 out of 34799\n",
      "Processing 24000 out of 34799\n",
      "Processing 24500 out of 34799\n",
      "Processing 25000 out of 34799\n",
      "Processing 25500 out of 34799\n",
      "Processing 26000 out of 34799\n",
      "Processing 26500 out of 34799\n",
      "Processing 27000 out of 34799\n",
      "Processing 27500 out of 34799\n",
      "Processing 28000 out of 34799\n",
      "Processing 28500 out of 34799\n",
      "Processing 29000 out of 34799\n",
      "Processing 29500 out of 34799\n",
      "Processing 30000 out of 34799\n",
      "Processing 30500 out of 34799\n",
      "Processing 31000 out of 34799\n",
      "Processing 31500 out of 34799\n",
      "Processing 32000 out of 34799\n",
      "Processing 32500 out of 34799\n",
      "Processing 33000 out of 34799\n",
      "Processing 33500 out of 34799\n",
      "Processing 34000 out of 34799\n",
      "Processing 34500 out of 34799\n",
      "Processing 0 out of 12630\n",
      "Processing 500 out of 12630\n",
      "Processing 1000 out of 12630\n",
      "Processing 1500 out of 12630\n",
      "Processing 2000 out of 12630\n",
      "Processing 2500 out of 12630\n",
      "Processing 3000 out of 12630\n",
      "Processing 3500 out of 12630\n",
      "Processing 4000 out of 12630\n",
      "Processing 4500 out of 12630\n",
      "Processing 5000 out of 12630\n",
      "Processing 5500 out of 12630\n",
      "Processing 6000 out of 12630\n",
      "Processing 6500 out of 12630\n",
      "Processing 7000 out of 12630\n",
      "Processing 7500 out of 12630\n",
      "Processing 8000 out of 12630\n",
      "Processing 8500 out of 12630\n",
      "Processing 9000 out of 12630\n",
      "Processing 9500 out of 12630\n",
      "Processing 10000 out of 12630\n",
      "Processing 10500 out of 12630\n",
      "Processing 11000 out of 12630\n",
      "Processing 11500 out of 12630\n",
      "Processing 12000 out of 12630\n",
      "Processing 12500 out of 12630\n",
      "Processing 0 out of 4410\n",
      "Processing 500 out of 4410\n",
      "Processing 1000 out of 4410\n",
      "Processing 1500 out of 4410\n",
      "Processing 2000 out of 4410\n",
      "Processing 2500 out of 4410\n",
      "Processing 3000 out of 4410\n",
      "Processing 3500 out of 4410\n",
      "Processing 4000 out of 4410\n"
     ]
    },
    {
     "data": {
      "image/png": "[encoded data removed]",
      "text/plain": [
       "<matplotlib.figure.Figure at 0x14bbf3be0>"
      ]
     },
     "metadata": {},
     "output_type": "display_data"
    }
   ],
   "source": [
    "### Preprocess the data here. Preprocessing steps could include normalization, converting to grayscale, etc.\n",
    "### Feel free to use as many code cells as needed.\n",
    "\n",
    "import skimage.util\n",
    "import skimage.transform\n",
    "import numpy as np\n",
    "\n",
    "\n",
    "def add_salt_pepper(src_image, amount, salt_vs_pepper):\n",
    "    def rand_dim(dim, count):\n",
    "        if dim == 1:\n",
    "            return 0\n",
    "        else:\n",
    "            return np.random.randint(0, dim-1, count)\n",
    "\n",
    "    result = src_image.copy()\n",
    "    salt_count = np.ceil(amount * src_image.size * salt_vs_pepper)\n",
    "    pepper_count = np.ceil(amount * src_image.size * (1.0 - salt_vs_pepper))\n",
    "    salt_coords = [rand_dim(dim, int(salt_count)) for dim in src_image.shape]\n",
    "    pepper_coords = [rand_dim(dim, int(pepper_count)) for dim in src_image.shape]\n",
    "    result[salt_coords] = 1\n",
    "    result[pepper_coords] = 0\n",
    "    return result\n",
    "\n",
    "\n",
    "def extend_dataset_to_avg(x, y):\n",
    "    groups_by_class = group_by_class(x, y)\n",
    "    avg_counts = int(sum((len(lst) for lst in groups_by_class.values())) / len(groups_by_class))\n",
    "    \n",
    "    print(\"Got avg_counts={}\".format(avg_counts))\n",
    "\n",
    "    manglers = [\n",
    "        lambda img: skimage.util.random_noise(img, 'gaussian', mean=0.1, var=0.002),\n",
    "        #lambda img: skimage.util.random_noise(img, 's&p', amount=0.008, salt_vs_pepper=0.5),\n",
    "        lambda img: add_salt_pepper(img, amount=0.008, salt_vs_pepper=0.5)\n",
    "    ]\n",
    "\n",
    "    addon_x = []\n",
    "    addon_y = []\n",
    "    for cls, indices in groups_by_class.items():\n",
    "        if len(indices) >= avg_counts:\n",
    "            continue\n",
    "\n",
    "        for img_idx in range(len(indices), avg_counts+1):\n",
    "            rand_image_idx = indices[np.random.randint(0, len(indices))]\n",
    "            src_image = x[rand_image_idx]\n",
    "            src_cls = y[rand_image_idx]\n",
    "            mangler = manglers[np.random.randint(0, len(manglers))]\n",
    "            addon_x.append(mangler(src_image))\n",
    "            addon_y.append(src_cls)\n",
    "\n",
    "    return np.stack(addon_x), np.stack(addon_y)\n",
    "\n",
    "\n",
    "def extend_dataset(x, y):\n",
    "\n",
    "    manglers = [\n",
    "        #lambda img: skimage.util.random_noise(img, 'gaussian', mean=0.1, var=0.002),\n",
    "        #lambda img: add_salt_pepper(img, amount=0.008, salt_vs_pepper=0.5),\n",
    "        #lambda img: skimage.transform.rotate(img, np.random.randint(-15, 15)),\n",
    "        #lambda img: skimage.transform.warp(img, skimage.transform.AffineTransform(\n",
    "        #    scale=[1.0 + (np.random.random() * 0.2 - 0.1)]*2)),\n",
    "        lambda img: skimage.transform.warp(img, skimage.transform.AffineTransform(translation=np.random.randint(-2, 2))),\n",
    "        # Other realistic perturbations would probably also increase robustness such as other affine transformations,\n",
    "        # brightness, contrast and blur\n",
    "    ]\n",
    "\n",
    "    addon_x = []\n",
    "    addon_y = []\n",
    "    for img_idx in range(len(x)):\n",
    "        src_image = x[img_idx]\n",
    "        src_cls = y[img_idx]\n",
    "        for mangler in manglers:\n",
    "            addon_x.append(mangler(src_image))\n",
    "            addon_y.append(src_cls)\n",
    "\n",
    "    return np.stack(addon_x), np.stack(addon_y)\n",
    "\n",
    "\n",
    "\n",
    "USE_GRAYSCALE = True\n",
    "EXTEND_DATASET = False\n",
    "\n",
    "\n",
    "if EXTEND_DATASET:\n",
    "    X_train_addon, y_train_addon = extend_dataset(X_train, y_train)\n",
    "\n",
    "    #display_random_images(X_train_addon, y_train_addon)\n",
    "\n",
    "    X_train_extended = np.concatenate((X_train, X_train_addon))\n",
    "    y_train_extended = np.concatenate((y_train, y_train_addon))\n",
    "else:\n",
    "    X_train_extended = X_train\n",
    "    y_train_extended = y_train\n",
    "\n",
    "    \n",
    "\n",
    "import skimage.exposure\n",
    "\n",
    "\n",
    "def equalize_hist(in_image):\n",
    "    return skimage.exposure.equalize_adapthist(in_image.reshape(in_image.shape[0:2])).reshape(in_image.shape)\n",
    "\n",
    "\n",
    "def equalize_hist_all(images):\n",
    "    total = images.shape[0]\n",
    "    for i in range(total):\n",
    "        if total > 500 and i % 500 == 0:\n",
    "            print(\"Processing {} out of {}\".format(i, total))\n",
    "        images[i] = equalize_hist(images[i])\n",
    "\n",
    "\n",
    "if USE_GRAYSCALE:\n",
    "    X_train_extended = greyscale(X_train_extended)\n",
    "    X_test = greyscale(X_test)\n",
    "    X_valid = greyscale(X_valid)\n",
    "    image_shape = X_train_extended[0].shape\n",
    "    \n",
    "    equalize_hist_all(X_train_extended)\n",
    "    equalize_hist_all(X_test)\n",
    "    equalize_hist_all(X_valid)\n",
    "    display_random_images(X_train_extended, y_train)\n",
    "    \n",
    "#plot_counts_by_class(y_train_extended, 'Training examples by class - extended')"
   ]
  },
  {
   "cell_type": "code",
   "execution_count": 74,
   "metadata": {
    "collapsed": true
   },
   "outputs": [],
   "source": [
    "training_file = './traffic-signs-data/train_grayscale_equalized.p'\n",
    "validation_file= './traffic-signs-data/valid_grayscale_equalized.p'\n",
    "testing_file = './traffic-signs-data/test_grayscale_equalized.p'"
   ]
  },
  {
   "cell_type": "code",
   "execution_count": 75,
   "metadata": {
    "collapsed": false
   },
   "outputs": [],
   "source": [
    "import pickle\n",
    "\n",
    "with open(training_file, mode='wb') as f:\n",
    "    pickle.dump({'features': X_train_extended, 'labels': y_train_extended}, f)\n",
    "with open(testing_file, mode='wb') as f:\n",
    "    pickle.dump({'features': X_valid, 'labels': y_valid}, f)\n",
    "with open(validation_file, mode='wb') as f:\n",
    "    pickle.dump({'features': X_test, 'labels': y_test}, f)"
   ]
  },
  {
   "cell_type": "code",
   "execution_count": 90,
   "metadata": {
    "collapsed": false
   },
   "outputs": [
    {
     "name": "stdout",
     "output_type": "stream",
     "text": [
      "(32, 32, 1)\n"
     ]
    }
   ],
   "source": [
    "with open(training_file, mode='rb') as f:\n",
    "    train = pickle.load(f)\n",
    "with open(validation_file, mode='rb') as f:\n",
    "    valid = pickle.load(f)\n",
    "with open(testing_file, mode='rb') as f:\n",
    "    test = pickle.load(f)\n",
    "\n",
    "X_train_extended, y_train_extended = train['features'], train['labels']\n",
    "X_valid, y_valid = valid['features'], valid['labels']\n",
    "X_test, y_test = test['features'], test['labels']\n",
    "\n",
    "image_shape = X_train_extended[0].shape\n",
    "\n",
    "print(image_shape)"
   ]
  },
  {
   "cell_type": "code",
   "execution_count": 91,
   "metadata": {
    "collapsed": false
   },
   "outputs": [],
   "source": [
    "from sklearn.utils import shuffle\n",
    "\n",
    "X_train_extended, y_train_extended = shuffle(X_train_extended, y_train_extended)"
   ]
  },
  {
   "cell_type": "markdown",
   "metadata": {},
   "source": [
    "### Model Architecture"
   ]
  },
  {
   "cell_type": "code",
   "execution_count": 92,
   "metadata": {
    "collapsed": true
   },
   "outputs": [],
   "source": [
    "### Define your architecture here.\n",
    "### Feel free to use as many code cells as needed.\n",
    "\n",
    "import tensorflow as tf\n",
    "\n",
    "\n",
    "def get_shape(input_shape, output_shape, strides):\n",
    "    return input_shape + strides - output_shape*strides\n",
    "\n",
    "\n",
    "def create_conv(input_data, input_shape, output_shape, strides, mean, stddev):\n",
    "    conv_shape = (get_shape(input_shape[0], output_shape[0], strides[0]),\n",
    "                  get_shape(input_shape[1], output_shape[1], strides[1]))\n",
    "    if len(input_shape) < 3:\n",
    "        input_depth = 1\n",
    "    else:\n",
    "        input_depth = input_shape[2]\n",
    "    weights = tf.Variable(tf.truncated_normal(\n",
    "        shape=(conv_shape[0], conv_shape[1], input_depth, output_shape[2]),\n",
    "        mean=mean, stddev=stddev))\n",
    "    #print(\"weights={}\".format(weights))\n",
    "    biases = tf.Variable(tf.zeros(output_shape[2]))\n",
    "    conv = tf.nn.conv2d(input_data, weights, strides=[1]+strides+[1], padding='VALID') +\\\n",
    "           biases\n",
    "    return conv\n",
    "\n",
    "\n",
    "class ChainBuilder(object):\n",
    "    def __init__(self, mean, stddev):\n",
    "        self._output = None\n",
    "        self._input = None\n",
    "        self._output_shape = None\n",
    "        self._mean = mean\n",
    "        self._stddev = stddev\n",
    "\n",
    "    def input(self, input_data, input_shape):\n",
    "        self._input = input_data\n",
    "        self._output = input_data\n",
    "        self._output_shape = input_shape\n",
    "        return self\n",
    "\n",
    "    def conv2d(self, output_shape, strides):\n",
    "        self._output = create_conv(self._output, self._output_shape, output_shape,\n",
    "                                   strides, self._mean, self._stddev)\n",
    "        self._output_shape = output_shape\n",
    "        #print(\"conv2d result: output_shape={}, output={}\".format(self._output_shape, self._output))\n",
    "        return self\n",
    "    \n",
    "    @property\n",
    "    def output(self):\n",
    "        return self._output\n",
    "    \n",
    "    def relu(self):\n",
    "        self._output = tf.nn.relu(self._output)\n",
    "        return self\n",
    "    \n",
    "    def max_pool(self, output_shape, strides):\n",
    "        assert len(self._output_shape) == 3\n",
    "        h = get_shape(self._output_shape[0], output_shape[0], strides[0])\n",
    "        w = get_shape(self._output_shape[1], output_shape[1], strides[1])\n",
    "        #print(\"max_pool input: {} {} [1, {}, {}, 1]\".format(output_shape, strides, w, h))\n",
    "        self._output = tf.nn.max_pool(self._output,\n",
    "                                      ksize=[1, w, h, 1],\n",
    "                                      strides=[1]+strides+[1],\n",
    "                                      padding='VALID')\n",
    "        self._output_shape = output_shape\n",
    "        #print(\"max_pool result: output_shape={}, output={}\".format(self._output_shape, self._output))\n",
    "        return self\n",
    "    \n",
    "    def flatten(self):\n",
    "        assert len(self._output_shape) == 3\n",
    "        self._output = tf.contrib.layers.flatten(self._output)\n",
    "        self._output_shape = [self._output_shape[0] * self._output_shape[1] * self._output_shape[2]]\n",
    "        #print(\"flatten result: output_shape={}, output={}\".format(self._output_shape, self._output))\n",
    "        return self\n",
    "    \n",
    "    def fc(self, output_n):\n",
    "        assert len(self._output_shape) == 1\n",
    "        #print(\"Creating fc({}, {}, {})\".format(self._output_shape, output_n, self._output))\n",
    "        weights = tf.Variable(tf.truncated_normal(shape=(self._output_shape[0], output_n),\n",
    "                                                  mean=self._mean,\n",
    "                                                  stddev=self._stddev))\n",
    "        biases = tf.Variable(tf.zeros(output_n))\n",
    "        fc = tf.matmul(self._output, weights) + biases\n",
    "        self._output = fc\n",
    "        self._output_shape = [output_n]\n",
    "        return self\n",
    "\n",
    "\n",
    "def create_model(input_data, n_classes):\n",
    "    builder = ChainBuilder(mean=0, stddev=0.1)\n",
    "    builder.input(input_data, input_data[0].shape.as_list()[0:3]).\\\n",
    "        conv2d([28, 28, 100], [1, 1]).relu().\\\n",
    "        max_pool([14, 14, 100], [2, 2]).\\\n",
    "        conv2d([14, 14, 200], [1, 1]).relu().\\\n",
    "        max_pool([5, 5, 200], [2, 2]).\\\n",
    "        flatten().\\\n",
    "        fc(100).relu().\\\n",
    "        fc(n_classes)\n",
    "    return builder.output"
   ]
  },
  {
   "cell_type": "markdown",
   "metadata": {},
   "source": [
    "### Train, Validate and Test the Model"
   ]
  },
  {
   "cell_type": "markdown",
   "metadata": {},
   "source": [
    "A validation set can be used to assess how well the model is performing. A low accuracy on the training and validation\n",
    "sets imply underfitting. A high accuracy on the training set but low accuracy on the validation set implies overfitting."
   ]
  },
  {
   "cell_type": "code",
   "execution_count": null,
   "metadata": {
    "collapsed": true
   },
   "outputs": [],
   "source": [
    "### Train your model here.\n",
    "### Calculate and report the accuracy on the training and validation set.\n",
    "### Once a final model architecture is selected, \n",
    "### the accuracy on the test set should be calculated and reported as well.\n",
    "### Feel free to use as many code cells as needed."
   ]
  },
  {
   "cell_type": "code",
   "execution_count": 93,
   "metadata": {
    "collapsed": true
   },
   "outputs": [],
   "source": [
    "EPOCHS = 30\n",
    "BATCH_SIZE = 128\n",
    "learning_rate = 0.001\n",
    "\n",
    "input_x = tf.placeholder(tf.float32, [None] + list(image_shape))\n",
    "input_y = tf.placeholder(tf.int32, (None, ))\n",
    "\n",
    "output_one_hot_y = tf.one_hot(input_y, n_classes)\n",
    "logits = create_model(input_x, n_classes)\n",
    "cross_entropy = tf.nn.softmax_cross_entropy_with_logits(logits=logits, labels=output_one_hot_y)\n",
    "loss_operation = tf.reduce_mean(cross_entropy)\n",
    "optimizer = tf.train.AdamOptimizer(learning_rate=learning_rate)\n",
    "training_operation = optimizer.minimize(loss_operation)\n",
    "correct_prediction = tf.equal(tf.argmax(logits, 1), tf.argmax(output_one_hot_y, 1))\n",
    "accuracy_operation = tf.reduce_mean(tf.cast(correct_prediction, tf.float32))\n",
    "\n",
    "def evaluate(X_data, y_data):\n",
    "    num_examples = len(X_data)\n",
    "    total_accuracy = 0\n",
    "    sess = tf.get_default_session()\n",
    "    for offset in range(0, num_examples, BATCH_SIZE):\n",
    "        batch_x, batch_y = X_data[offset:offset+BATCH_SIZE], y_data[offset:offset+BATCH_SIZE]\n",
    "        accuracy = sess.run(accuracy_operation, feed_dict={input_x: batch_x, input_y: batch_y})\n",
    "        total_accuracy += (accuracy * len(batch_x))\n",
    "    return total_accuracy / num_examples"
   ]
  },
  {
   "cell_type": "code",
   "execution_count": 94,
   "metadata": {
    "collapsed": true
   },
   "outputs": [],
   "source": [
    "def train_the_model(X_train, y_train, X_valid, y_valid):\n",
    "    saver = tf.train.Saver()\n",
    "    \n",
    "    with tf.Session() as sess:\n",
    "        sess.run(tf.global_variables_initializer())\n",
    "        num_examples = len(X_train)\n",
    "        \n",
    "        print(\"Training...\")\n",
    "        print()\n",
    "        for i in range(EPOCHS):\n",
    "            X_train, y_train = shuffle(X_train, y_train)\n",
    "            for offset in range(0, num_examples, BATCH_SIZE):\n",
    "                end = offset + BATCH_SIZE\n",
    "                batch_x, batch_y = X_train[offset:end], y_train[offset:end]\n",
    "                sess.run(training_operation, feed_dict={input_x: batch_x, input_y: batch_y})\n",
    "                \n",
    "            validation_accuracy = evaluate(X_valid, y_valid)\n",
    "            print(\"EPOCH {} ...\".format(i+1))\n",
    "            print(\"Validation Accuracy = {:.3f}\".format(validation_accuracy))\n",
    "            print()\n",
    "            \n",
    "        saver.save(sess, './lenet')\n",
    "        print(\"Model saved\")"
   ]
  },
  {
   "cell_type": "code",
   "execution_count": 95,
   "metadata": {
    "collapsed": false
   },
   "outputs": [
    {
     "name": "stdout",
     "output_type": "stream",
     "text": [
      "Training...\n",
      "\n",
      "EPOCH 1 ...\n",
      "Validation Accuracy = 0.814\n",
      "\n",
      "EPOCH 2 ...\n",
      "Validation Accuracy = 0.888\n",
      "\n",
      "EPOCH 3 ...\n",
      "Validation Accuracy = 0.915\n",
      "\n",
      "EPOCH 4 ...\n",
      "Validation Accuracy = 0.930\n",
      "\n",
      "EPOCH 5 ...\n",
      "Validation Accuracy = 0.930\n",
      "\n",
      "EPOCH 6 ...\n",
      "Validation Accuracy = 0.941\n",
      "\n",
      "EPOCH 7 ...\n",
      "Validation Accuracy = 0.939\n",
      "\n",
      "EPOCH 8 ...\n",
      "Validation Accuracy = 0.940\n",
      "\n",
      "EPOCH 9 ...\n",
      "Validation Accuracy = 0.943\n",
      "\n",
      "EPOCH 10 ...\n",
      "Validation Accuracy = 0.940\n",
      "\n",
      "EPOCH 11 ...\n",
      "Validation Accuracy = 0.945\n",
      "\n",
      "EPOCH 12 ...\n",
      "Validation Accuracy = 0.953\n",
      "\n",
      "EPOCH 13 ...\n",
      "Validation Accuracy = 0.952\n",
      "\n",
      "EPOCH 14 ...\n",
      "Validation Accuracy = 0.941\n",
      "\n",
      "EPOCH 15 ...\n",
      "Validation Accuracy = 0.957\n",
      "\n",
      "EPOCH 16 ...\n",
      "Validation Accuracy = 0.924\n",
      "\n",
      "EPOCH 17 ...\n",
      "Validation Accuracy = 0.947\n",
      "\n",
      "EPOCH 18 ...\n",
      "Validation Accuracy = 0.963\n",
      "\n",
      "EPOCH 19 ...\n",
      "Validation Accuracy = 0.960\n",
      "\n",
      "EPOCH 20 ...\n",
      "Validation Accuracy = 0.963\n",
      "\n",
      "EPOCH 21 ...\n",
      "Validation Accuracy = 0.965\n",
      "\n",
      "EPOCH 22 ...\n",
      "Validation Accuracy = 0.964\n",
      "\n",
      "EPOCH 23 ...\n",
      "Validation Accuracy = 0.966\n",
      "\n",
      "EPOCH 24 ...\n",
      "Validation Accuracy = 0.966\n",
      "\n",
      "EPOCH 25 ...\n",
      "Validation Accuracy = 0.964\n",
      "\n",
      "EPOCH 26 ...\n",
      "Validation Accuracy = 0.964\n",
      "\n",
      "EPOCH 27 ...\n",
      "Validation Accuracy = 0.966\n",
      "\n",
      "EPOCH 28 ...\n",
      "Validation Accuracy = 0.965\n",
      "\n",
      "EPOCH 29 ...\n",
      "Validation Accuracy = 0.965\n",
      "\n",
      "EPOCH 30 ...\n",
      "Validation Accuracy = 0.965\n",
      "\n",
      "Model saved\n"
     ]
    }
   ],
   "source": [
    "train_the_model(X_train_extended, y_train_extended, X_valid, y_valid)"
   ]
  },
  {
   "cell_type": "markdown",
   "metadata": {},
   "source": [
    "---\n",
    "\n",
    "## Step 3: Test a Model on New Images\n",
    "\n",
    "To give yourself more insight into how your model is working, download at least five pictures of German traffic signs from the web and use your model to predict the traffic sign type.\n",
    "\n",
    "You may find `signnames.csv` useful as it contains mappings from the class id (integer) to the actual sign name."
   ]
  },
  {
   "cell_type": "markdown",
   "metadata": {},
   "source": [
    "### Load and Output the Images"
   ]
  },
  {
   "cell_type": "code",
   "execution_count": null,
   "metadata": {
    "collapsed": true
   },
   "outputs": [],
   "source": [
    "### Load the images and plot them here.\n",
    "### Feel free to use as many code cells as needed."
   ]
  },
  {
   "cell_type": "markdown",
   "metadata": {},
   "source": [
    "### Predict the Sign Type for Each Image"
   ]
  },
  {
   "cell_type": "code",
   "execution_count": null,
   "metadata": {
    "collapsed": true
   },
   "outputs": [],
   "source": [
    "### Run the predictions here and use the model to output the prediction for each image.\n",
    "### Make sure to pre-process the images with the same pre-processing pipeline used earlier.\n",
    "### Feel free to use as many code cells as needed."
   ]
  },
  {
   "cell_type": "markdown",
   "metadata": {},
   "source": [
    "### Analyze Performance"
   ]
  },
  {
   "cell_type": "code",
   "execution_count": null,
   "metadata": {
    "collapsed": true
   },
   "outputs": [],
   "source": [
    "### Calculate the accuracy for these 5 new images. \n",
    "### For example, if the model predicted 1 out of 5 signs correctly, it's 20% accurate on these new images."
   ]
  },
  {
   "cell_type": "markdown",
   "metadata": {},
   "source": [
    "### Output Top 5 Softmax Probabilities For Each Image Found on the Web"
   ]
  },
  {
   "cell_type": "markdown",
   "metadata": {},
   "source": [
    "For each of the new images, print out the model's softmax probabilities to show the **certainty** of the model's predictions (limit the output to the top 5 probabilities for each image). [`tf.nn.top_k`](https://www.tensorflow.org/versions/r0.12/api_docs/python/nn.html#top_k) could prove helpful here. \n",
    "\n",
    "The example below demonstrates how tf.nn.top_k can be used to find the top k predictions for each image.\n",
    "\n",
    "`tf.nn.top_k` will return the values and indices (class ids) of the top k predictions. So if k=3, for each sign, it'll return the 3 largest probabilities (out of a possible 43) and the correspoding class ids.\n",
    "\n",
    "Take this numpy array as an example. The values in the array represent predictions. The array contains softmax probabilities for five candidate images with six possible classes. `tk.nn.top_k` is used to choose the three classes with the highest probability:\n",
    "\n",
    "```\n",
    "# (5, 6) array\n",
    "a = np.array([[ 0.24879643,  0.07032244,  0.12641572,  0.34763842,  0.07893497,\n",
    "         0.12789202],\n",
    "       [ 0.28086119,  0.27569815,  0.08594638,  0.0178669 ,  0.18063401,\n",
    "         0.15899337],\n",
    "       [ 0.26076848,  0.23664738,  0.08020603,  0.07001922,  0.1134371 ,\n",
    "         0.23892179],\n",
    "       [ 0.11943333,  0.29198961,  0.02605103,  0.26234032,  0.1351348 ,\n",
    "         0.16505091],\n",
    "       [ 0.09561176,  0.34396535,  0.0643941 ,  0.16240774,  0.24206137,\n",
    "         0.09155967]])\n",
    "```\n",
    "\n",
    "Running it through `sess.run(tf.nn.top_k(tf.constant(a), k=3))` produces:\n",
    "\n",
    "```\n",
    "TopKV2(values=array([[ 0.34763842,  0.24879643,  0.12789202],\n",
    "       [ 0.28086119,  0.27569815,  0.18063401],\n",
    "       [ 0.26076848,  0.23892179,  0.23664738],\n",
    "       [ 0.29198961,  0.26234032,  0.16505091],\n",
    "       [ 0.34396535,  0.24206137,  0.16240774]]), indices=array([[3, 0, 5],\n",
    "       [0, 1, 4],\n",
    "       [0, 5, 1],\n",
    "       [1, 3, 5],\n",
    "       [1, 4, 3]], dtype=int32))\n",
    "```\n",
    "\n",
    "Looking just at the first row we get `[ 0.34763842,  0.24879643,  0.12789202]`, you can confirm these are the 3 largest probabilities in `a`. You'll also notice `[3, 0, 5]` are the corresponding indices."
   ]
  },
  {
   "cell_type": "code",
   "execution_count": null,
   "metadata": {
    "collapsed": true
   },
   "outputs": [],
   "source": [
    "### Print out the top five softmax probabilities for the predictions on the German traffic sign images found on the web. \n",
    "### Feel free to use as many code cells as needed."
   ]
  },
  {
   "cell_type": "markdown",
   "metadata": {},
   "source": [
    "---\n",
    "\n",
    "## Step 4: Visualize the Neural Network's State with Test Images\n",
    "\n",
    " This Section is not required to complete but acts as an additional excersise for understaning the output of a neural network's weights. While neural networks can be a great learning device they are often referred to as a black box. We can understand what the weights of a neural network look like better by plotting their feature maps. After successfully training your neural network you can see what it's feature maps look like by plotting the output of the network's weight layers in response to a test stimuli image. From these plotted feature maps, it's possible to see what characteristics of an image the network finds interesting. For a sign, maybe the inner network feature maps react with high activation to the sign's boundary outline or to the contrast in the sign's painted symbol.\n",
    "\n",
    " Provided for you below is the function code that allows you to get the visualization output of any tensorflow weight layer you want. The inputs to the function should be a stimuli image, one used during training or a new one you provided, and then the tensorflow variable name that represents the layer's state during the training process, for instance if you wanted to see what the [LeNet lab's](https://classroom.udacity.com/nanodegrees/nd013/parts/fbf77062-5703-404e-b60c-95b78b2f3f9e/modules/6df7ae49-c61c-4bb2-a23e-6527e69209ec/lessons/601ae704-1035-4287-8b11-e2c2716217ad/concepts/d4aca031-508f-4e0b-b493-e7b706120f81) feature maps looked like for it's second convolutional layer you could enter conv2 as the tf_activation variable.\n",
    "\n",
    "For an example of what feature map outputs look like, check out NVIDIA's results in their paper [End-to-End Deep Learning for Self-Driving Cars](https://devblogs.nvidia.com/parallelforall/deep-learning-self-driving-cars/) in the section Visualization of internal CNN State. NVIDIA was able to show that their network's inner weights had high activations to road boundary lines by comparing feature maps from an image with a clear path to one without. Try experimenting with a similar test to show that your trained network's weights are looking for interesting features, whether it's looking at differences in feature maps from images with or without a sign, or even what feature maps look like in a trained network vs a completely untrained one on the same sign image.\n",
    "\n",
    "<figure>\n",
    " <img src=\"visualize_cnn.png\" width=\"380\" alt=\"Combined Image\" />\n",
    " <figcaption>\n",
    " <p></p> \n",
    " <p style=\"text-align: center;\"> Your output should look something like this (above)</p> \n",
    " </figcaption>\n",
    "</figure>\n",
    " <p></p> \n"
   ]
  },
  {
   "cell_type": "code",
   "execution_count": null,
   "metadata": {
    "collapsed": true
   },
   "outputs": [],
   "source": [
    "### Visualize your network's feature maps here.\n",
    "### Feel free to use as many code cells as needed.\n",
    "\n",
    "# image_input: the test image being fed into the network to produce the feature maps\n",
    "# tf_activation: should be a tf variable name used during your training procedure that represents the calculated state of a specific weight layer\n",
    "# activation_min/max: can be used to view the activation contrast in more detail, by default matplot sets min and max to the actual min and max values of the output\n",
    "# plt_num: used to plot out multiple different weight feature map sets on the same block, just extend the plt number for each new feature map entry\n",
    "\n",
    "def outputFeatureMap(image_input, tf_activation, activation_min=-1, activation_max=-1 ,plt_num=1):\n",
    "    # Here make sure to preprocess your image_input in a way your network expects\n",
    "    # with size, normalization, ect if needed\n",
    "    # image_input =\n",
    "    # Note: x should be the same name as your network's tensorflow data placeholder variable\n",
    "    # If you get an error tf_activation is not defined it maybe having trouble accessing the variable from inside a function\n",
    "    activation = tf_activation.eval(session=sess,feed_dict={x : image_input})\n",
    "    featuremaps = activation.shape[3]\n",
    "    plt.figure(plt_num, figsize=(15,15))\n",
    "    for featuremap in range(featuremaps):\n",
    "        plt.subplot(6,8, featuremap+1) # sets the number of feature maps to show on each row and column\n",
    "        plt.title('FeatureMap ' + str(featuremap)) # displays the feature map number\n",
    "        if activation_min != -1 & activation_max != -1:\n",
    "            plt.imshow(activation[0,:,:, featuremap], interpolation=\"nearest\", vmin =activation_min, vmax=activation_max, cmap=\"gray\")\n",
    "        elif activation_max != -1:\n",
    "            plt.imshow(activation[0,:,:, featuremap], interpolation=\"nearest\", vmax=activation_max, cmap=\"gray\")\n",
    "        elif activation_min !=-1:\n",
    "            plt.imshow(activation[0,:,:, featuremap], interpolation=\"nearest\", vmin=activation_min, cmap=\"gray\")\n",
    "        else:\n",
    "            plt.imshow(activation[0,:,:, featuremap], interpolation=\"nearest\", cmap=\"gray\")"
   ]
  },
  {
   "cell_type": "markdown",
   "metadata": {},
   "source": [
    "### Question 9\n",
    "\n",
    "Discuss how you used the visual output of your trained network's feature maps to show that it had learned to look for interesting characteristics in traffic sign images\n"
   ]
  },
  {
   "cell_type": "markdown",
   "metadata": {},
   "source": [
    "**Answer:**"
   ]
  },
  {
   "cell_type": "markdown",
   "metadata": {},
   "source": [
    "> **Note**: Once you have completed all of the code implementations and successfully answered each question above, you may finalize your work by exporting the iPython Notebook as an HTML document. You can do this by using the menu above and navigating to  \\n\",\n",
    "    \"**File -> Download as -> HTML (.html)**. Include the finished document along with this notebook as your submission."
   ]
  },
  {
   "cell_type": "markdown",
   "metadata": {},
   "source": [
    "### Project Writeup\n",
    "\n",
    "Once you have completed the code implementation, document your results in a project writeup using this [template](https://github.com/udacity/CarND-Traffic-Sign-Classifier-Project/blob/master/writeup_template.md) as a guide. The writeup can be in a markdown or pdf file. "
   ]
  }
 ],
 "metadata": {
  "anaconda-cloud": {},
  "kernelspec": {
   "display_name": "Python 3",
   "language": "python",
   "name": "python3"
  },
  "language_info": {
   "codemirror_mode": {
    "name": "ipython",
    "version": 3
   },
   "file_extension": ".py",
   "mimetype": "text/x-python",
   "name": "python",
   "nbconvert_exporter": "python",
   "pygments_lexer": "ipython3",
   "version": "3.6.0"
  }
 },
 "nbformat": 4,
 "nbformat_minor": 0
}
