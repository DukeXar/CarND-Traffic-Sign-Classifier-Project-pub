{
 "cells": [
  {
   "cell_type": "markdown",
   "metadata": {},
   "source": [
    "# Project: Build a Traffic Sign Recognition Classifier"
   ]
  },
  {
   "cell_type": "markdown",
   "metadata": {},
   "source": [
    "---\n",
    "## Step 0: Load The Data"
   ]
  },
  {
   "cell_type": "code",
   "execution_count": null,
   "metadata": {
    "collapsed": false
   },
   "outputs": [],
   "source": [
    "import pickle\n",
    "\n",
    "def load_pickled(filename):\n",
    "    with open(filename, mode='rb') as f:\n",
    "        ds = pickle.load(f)\n",
    "        return ds['features'], ds['labels']"
   ]
  },
  {
   "cell_type": "code",
   "execution_count": null,
   "metadata": {
    "collapsed": false
   },
   "outputs": [],
   "source": [
    "X_train, y_train = load_pickled('./traffic-signs-data/train.p')\n",
    "X_valid, y_valid = load_pickled('./traffic-signs-data/valid.p')\n",
    "X_test, y_test = load_pickled('./traffic-signs-data/test.p')"
   ]
  },
  {
   "cell_type": "markdown",
   "metadata": {},
   "source": [
    "---\n",
    "\n",
    "## Step 1: Dataset Summary & Exploration\n",
    "\n",
    "The pickled data is a dictionary with 4 key/value pairs:\n",
    "\n",
    "- `'features'` is a 4D array containing raw pixel data of the traffic sign images, (num examples, width, height, channels).\n",
    "- `'labels'` is a 1D array containing the label/class id of the traffic sign. The file `signnames.csv` contains id -> name mappings for each id.\n",
    "- `'sizes'` is a list containing tuples, (width, height) representing the the original width and height the image.\n",
    "- `'coords'` is a list containing tuples, (x1, y1, x2, y2) representing coordinates of a bounding box around the sign in the image. **THESE COORDINATES ASSUME THE ORIGINAL IMAGE. THE PICKLED DATA CONTAINS RESIZED VERSIONS (32 by 32) OF THESE IMAGES**\n",
    "\n",
    "Complete the basic data summary below. Use python, numpy and/or pandas methods to calculate the data summary rather than hard coding the results. For example, the [pandas shape method](http://pandas.pydata.org/pandas-docs/stable/generated/pandas.DataFrame.shape.html) might be useful for calculating some of the summary results. "
   ]
  },
  {
   "cell_type": "markdown",
   "metadata": {},
   "source": [
    "### Provide a Basic Summary of the Data Set Using Python, Numpy and/or Pandas"
   ]
  },
  {
   "cell_type": "code",
   "execution_count": null,
   "metadata": {
    "collapsed": false
   },
   "outputs": [],
   "source": [
    "print(\"Number of training examples =\", X_train.shape[0])\n",
    "print(\"Number of testing examples =\", X_test.shape[0])\n",
    "print(\"Image data shape =\", X_train[0].shape)\n",
    "print(\"Number of classes =\", len(set(y_train)))"
   ]
  },
  {
   "cell_type": "markdown",
   "metadata": {},
   "source": [
    "### Include an exploratory visualization of the dataset"
   ]
  },
  {
   "cell_type": "markdown",
   "metadata": {},
   "source": [
    "Visualize the German Traffic Signs Dataset using the pickled file(s). This is open ended, suggestions include: plotting traffic sign images, plotting the count of each sign, etc.\n",
    "\n",
    "The [Matplotlib](http://matplotlib.org/) [examples](http://matplotlib.org/examples/index.html) and [gallery](http://matplotlib.org/gallery.html) pages are a great resource for doing visualizations in Python.\n",
    "\n",
    "**NOTE:** It's recommended you start with something simple first. If you wish to do more, come back to it after you've completed the rest of the sections."
   ]
  },
  {
   "cell_type": "code",
   "execution_count": null,
   "metadata": {
    "collapsed": false
   },
   "outputs": [],
   "source": [
    "import pandas as pd\n",
    "\n",
    "def get_signnames():\n",
    "    signnames_df = pd.read_csv('./signnames.csv')\n",
    "    return signnames_df"
   ]
  },
  {
   "cell_type": "code",
   "execution_count": null,
   "metadata": {
    "collapsed": true
   },
   "outputs": [],
   "source": [
    "import matplotlib.pyplot as plt\n",
    "import matplotlib.cm\n",
    "%config InlineBackend.figure_format = 'retina'\n",
    "\n",
    "def display_images_in_line(title, images):\n",
    "    %matplotlib inline\n",
    "    plt.rcdefaults()\n",
    "    fig, axes = plt.subplots(1, len(images), figsize=(12, 1))\n",
    "    fig.suptitle(title, x=0, y=0.9, horizontalalignment='left', verticalalignment='bottom')\n",
    "    fig.subplots_adjust(hspace=0.05, wspace=0.05, top=0.85, bottom=0, left=0, right=1)\n",
    "    for i, ax in enumerate(axes.flat):\n",
    "        image = images[i]\n",
    "        if len(image.shape) < 3 or image.shape[2] == 1:\n",
    "            ax.imshow(image.copy().reshape(image.shape[0:2]), cmap=matplotlib.cm.gray)\n",
    "        else:\n",
    "            ax.imshow(image)\n",
    "        ax.axis('off')\n",
    "        ax.yticks = []\n",
    "        ax.xticks = []\n",
    "    \n",
    "    plt.show()"
   ]
  },
  {
   "cell_type": "code",
   "execution_count": null,
   "metadata": {
    "collapsed": true
   },
   "outputs": [],
   "source": [
    "def count_by_class(y_train):\n",
    "    result = {}\n",
    "    for cls in y_train:\n",
    "        if cls not in result:\n",
    "            result[cls] = 1\n",
    "        else:\n",
    "            result[cls] += 1\n",
    "    return result\n",
    "\n",
    "def group_by_class(y_train):\n",
    "    \"\"\"Returns {cls: [idx of items in x_train with class cls], ...}\n",
    "    \"\"\"\n",
    "    result = {}\n",
    "    for idx in range(len(y_train)):\n",
    "        cls = y_train[idx]\n",
    "        result.setdefault(cls, []).append(idx)\n",
    "    return result"
   ]
  },
  {
   "cell_type": "code",
   "execution_count": null,
   "metadata": {
    "collapsed": false,
    "scrolled": false
   },
   "outputs": [],
   "source": [
    "import random\n",
    "\n",
    "def display_dataset_sample(images, labels, sample_size):\n",
    "    signnames_df = get_signnames()\n",
    "\n",
    "    for cls, indices in group_by_class(labels).items():\n",
    "        sample_indices = random.sample(indices, sample_size)\n",
    "        sample_images = images[sample_indices]\n",
    "        cls_name = signnames_df.loc[cls].SignName\n",
    "        display_images_in_line(\"{} ({}), {} examples\".format(cls_name, cls, len(indices)), sample_images)\n",
    "        \n",
    "display_dataset_sample(X_train, y_train, 10)"
   ]
  },
  {
   "cell_type": "code",
   "execution_count": null,
   "metadata": {
    "collapsed": false
   },
   "outputs": [],
   "source": [
    "import random\n",
    "\n",
    "%matplotlib inline\n",
    "%config InlineBackend.figure_format = 'retina'\n",
    "\n",
    "\n",
    "def display_random_images(x, y, x_cnt=5, y_cnt=2):\n",
    "    %matplotlib inline\n",
    "    plt.rcdefaults()\n",
    "    \n",
    "    fig, axes = plt.subplots(y_cnt, x_cnt, figsize=(12, 4))\n",
    "    fig.subplots_adjust(hspace=0.5, wspace=0.05)\n",
    "    for ax in axes.flat:\n",
    "        idx = random.randint(0, len(x))\n",
    "        if len(x[idx].shape) < 3 or x[idx].shape[2] == 1:\n",
    "            img = x[idx].copy()\n",
    "            ax.imshow(img.reshape(img.shape[0:2]), cmap=matplotlib.cm.gray)\n",
    "        else:\n",
    "            ax.imshow(x[idx])\n",
    "        ax.set_title(\"class={}\".format(y[idx]))\n",
    "        ax.axis('off')\n",
    "    \n",
    "    plt.tight_layout()\n",
    "    plt.show()\n",
    "\n",
    "\n",
    "def display_images(images, y_cnt, x_cnt, figsize=(2, 2), hspace=0.5, wspace=0.05):\n",
    "    %matplotlib inline\n",
    "    plt.rcdefaults()\n",
    "    \n",
    "    fig, axes = plt.subplots(y_cnt, x_cnt, figsize=figsize)\n",
    "    fig.subplots_adjust(hspace=hspace, wspace=wspace)\n",
    "    idx = 0\n",
    "    if (x_cnt, y_cnt) == (1, 1):\n",
    "        axes = [axes]\n",
    "    else:\n",
    "        axes = axes.flat\n",
    "    for ax in axes:\n",
    "        if idx >= len(images):\n",
    "            break\n",
    "        image = images[idx]\n",
    "        if len(image.shape) < 3 or image.shape[2] == 1:\n",
    "            img = image.copy()\n",
    "            ax.imshow(img.reshape(img.shape[0:2]), cmap=matplotlib.cm.gray)\n",
    "        else:\n",
    "            ax.imshow(image)\n",
    "        idx += 1\n",
    "        ax.axis('off')\n",
    "    \n",
    "    plt.tight_layout()\n",
    "    plt.show()"
   ]
  },
  {
   "cell_type": "code",
   "execution_count": null,
   "metadata": {
    "collapsed": false
   },
   "outputs": [],
   "source": [
    "def plot_counts_by_class(y_train, title):\n",
    "    %matplotlib inline\n",
    "    \n",
    "    counts = count_by_class(y_train)\n",
    "    sorted_keys = sorted(counts.keys())\n",
    "    sorted_values = [counts[k] for k in sorted_keys]\n",
    "\n",
    "    plt.rcdefaults()\n",
    "    fig, ax = plt.subplots(figsize=(12, 4))\n",
    "    ax.bar(sorted_keys, sorted_values, width=0.75)\n",
    "    ax.set_xticks(sorted_keys)\n",
    "    ax.set_xlabel('Class')\n",
    "    ax.set_title(title)\n",
    "    plt.show()"
   ]
  },
  {
   "cell_type": "code",
   "execution_count": null,
   "metadata": {
    "collapsed": false
   },
   "outputs": [],
   "source": [
    "plot_counts_by_class(y_train, 'Training examples by class')"
   ]
  },
  {
   "cell_type": "markdown",
   "metadata": {},
   "source": [
    "----\n",
    "\n",
    "## Step 2: Design and Test a Model Architecture\n",
    "\n",
    "Design and implement a deep learning model that learns to recognize traffic signs. Train and test your model on the [German Traffic Sign Dataset](http://benchmark.ini.rub.de/?section=gtsrb&subsection=dataset).\n",
    "\n",
    "There are various aspects to consider when thinking about this problem:\n",
    "\n",
    "- Neural network architecture\n",
    "- Play around preprocessing techniques (normalization, rgb to grayscale, etc)\n",
    "- Number of examples per label (some have more than others).\n",
    "- Generate fake data.\n",
    "\n",
    "Here is an example of a [published baseline model on this problem](http://yann.lecun.com/exdb/publis/pdf/sermanet-ijcnn-11.pdf). It's not required to be familiar with the approach used in the paper but, it's good practice to try to read papers like these.\n",
    "\n",
    "**NOTE:** The LeNet-5 implementation shown in the [classroom](https://classroom.udacity.com/nanodegrees/nd013/parts/fbf77062-5703-404e-b60c-95b78b2f3f9e/modules/6df7ae49-c61c-4bb2-a23e-6527e69209ec/lessons/601ae704-1035-4287-8b11-e2c2716217ad/concepts/d4aca031-508f-4e0b-b493-e7b706120f81) at the end of the CNN lesson is a solid starting point. You'll have to change the number of classes and possibly the preprocessing, but aside from that it's plug and play!"
   ]
  },
  {
   "cell_type": "markdown",
   "metadata": {},
   "source": [
    "### Pre-process the Data Set (normalization, grayscale, etc.)"
   ]
  },
  {
   "cell_type": "code",
   "execution_count": null,
   "metadata": {
    "collapsed": false
   },
   "outputs": [],
   "source": [
    "import numpy as np\n",
    "import skimage.exposure\n",
    "from skimage.color import rgb2grey\n",
    "\n",
    "\n",
    "def greyscale(data):\n",
    "    output_shape = list(data.shape)\n",
    "    output_shape[2] = 1\n",
    "    greyscaled = (rgb2grey(data) / 255.0).astype(np.float32)\n",
    "    return greyscaled.reshape(output_shape)\n",
    "\n",
    "\n",
    "def equalize_hist_grayscale(in_image):\n",
    "    return skimage.exposure.equalize_adapthist(in_image.reshape(in_image.shape[0:2])).reshape(in_image.shape)\n",
    "\n",
    "\n",
    "def normalize_single_item_1(item):\n",
    "    return equalize_hist_grayscale(greyscale(item))\n",
    "\n",
    "\n",
    "def normalize_single_item_2(item):\n",
    "    return skimage.exposure.equalize_adapthist(item)\n",
    "\n",
    "\n",
    "def normalize_single_item_3(item):\n",
    "    equalized = skimage.exposure.equalize_adapthist(item)\n",
    "    return (equalized - 0.5) / 0.5\n",
    "\n",
    "\n",
    "def process_single_item_inline_ex(input, result, idx, process_single_item):\n",
    "    result[idx] = process_single_item(input[idx])\n",
    "\n",
    "\n",
    "def process_data_parallel(data, process_single_item):\n",
    "    import tempfile\n",
    "    import os\n",
    "    import gc\n",
    "    import functools\n",
    "    \n",
    "    from joblib import Parallel, delayed\n",
    "    from joblib import load, dump\n",
    "    \n",
    "    result_dtype = np.float32\n",
    "    temp_folder = tempfile.mkdtemp()\n",
    "\n",
    "    process_single_item_inline = functools.partial(process_single_item_inline_ex,\n",
    "                                                   process_single_item=process_single_item)\n",
    "\n",
    "    try:\n",
    "        data_filename = os.path.join(temp_folder, 'data.mmap')\n",
    "        result_filename = os.path.join(temp_folder, 'result.mmap')\n",
    "        if os.path.exists(data_filename):\n",
    "            os.unlink(data_filename)\n",
    "        if os.path.exists(result_filename):\n",
    "            os.unlink(result_filename)\n",
    "        \n",
    "        result = np.memmap(result_filename, dtype=result_dtype, shape=data.shape, mode='w+')\n",
    "    \n",
    "        # Dump and reassign to gc.collect things in Parallel\n",
    "        dump(data, data_filename)\n",
    "        data = load(data_filename, mmap_mode='r')\n",
    "\n",
    "        Parallel(n_jobs=-1, verbose=4)(\n",
    "            delayed(process_single_item_inline)(data, result, idx)\n",
    "            for idx in range(len(data))\n",
    "        )\n",
    "        \n",
    "        result_copy = result.copy()\n",
    "        \n",
    "        gc.collect()\n",
    "        \n",
    "        return result_copy\n",
    "    finally:\n",
    "        try:\n",
    "            import shutil\n",
    "            shutil.rmtree(temp_folder)\n",
    "        except Exception as e:\n",
    "            print(\"Was not able to remove temp_folder={}, e={}\".format(temp_folder, e))\n",
    "    return None"
   ]
  },
  {
   "cell_type": "markdown",
   "metadata": {},
   "source": [
    "## Example images after preprocessing"
   ]
  },
  {
   "cell_type": "code",
   "execution_count": null,
   "metadata": {
    "collapsed": false,
    "scrolled": false
   },
   "outputs": [],
   "source": [
    "import numpy as np\n",
    "\n",
    "indices = np.random.randint(0, len(X_train), 10)\n",
    "example_images = X_train[indices]\n",
    "\n",
    "preprocessed_images_1 = process_data_parallel(example_images, normalize_single_item_1)\n",
    "preprocessed_images_2 = process_data_parallel(example_images, normalize_single_item_2)\n",
    "preprocessed_images_3 = process_data_parallel(example_images, normalize_single_item_3)\n",
    "\n",
    "def dump_stats(title, images):\n",
    "    print(\"{}: var={:.3f}, max={:.3f}, min={:.3f}, mean={:.3f}\".format(title,\n",
    "        np.var(images), np.max(images), np.min(images), np.mean(images)))\n",
    "    display_images_in_line(\"\", images)\n",
    "\n",
    "dump_stats(\"Input\", example_images)\n",
    "dump_stats(\"Greyscale\", preprocessed_images_1)\n",
    "dump_stats(\"Adaptive hist.\", preprocessed_images_2)\n",
    "dump_stats(\"Adaptive hist. & normalizing\", preprocessed_images_3)"
   ]
  },
  {
   "cell_type": "markdown",
   "metadata": {},
   "source": [
    "## Augmenting dataset"
   ]
  },
  {
   "cell_type": "code",
   "execution_count": null,
   "metadata": {
    "collapsed": false
   },
   "outputs": [],
   "source": [
    "import skimage.util\n",
    "import skimage.transform\n",
    "import numpy as np\n",
    "from datetime import datetime\n",
    "\n",
    "\n",
    "def apply_projection_transform(img):\n",
    "    assert img.shape[0] == img.shape[1]\n",
    "    h = img.shape[0]\n",
    "    w = img.shape[1]\n",
    "    k = 0.2\n",
    "    deltas_h = [np.random.uniform(-h*k, h*k) for i in range(4)]\n",
    "    deltas_w = [np.random.uniform(-w*k, w*k) for i in range(4)]\n",
    "\n",
    "    transform = skimage.transform.ProjectiveTransform()\n",
    "    transform.estimate(np.array([\n",
    "        (deltas_h[0], deltas_w[0]),\n",
    "        (deltas_h[1], w - deltas_w[1]),\n",
    "        (h - deltas_h[2], w - deltas_w[2]),\n",
    "        (h - deltas_h[3], deltas_w[3])\n",
    "    ]), np.array([\n",
    "        (0, 0), (0, w), (h, w), (h, 0)\n",
    "    ]))\n",
    "    return skimage.transform.warp(img, transform, output_shape=(h, w), order=1, mode='edge')\n",
    "\n",
    "\n",
    "manglers = [\n",
    "    #(1, lambda img: skimage.util.random_noise(img, 'gaussian', mean=0.1, var=0.002)),\n",
    "    (1, lambda img: skimage.transform.rotate(img, np.random.randint(-20, 20), mode='edge')),\n",
    "    (1, lambda img: skimage.transform.warp(img, skimage.transform.AffineTransform(\n",
    "        scale=[1.0 + (np.random.random() * 0.2 - 0.1)]*2), mode='edge')),\n",
    "    (1, lambda img: skimage.transform.warp(\n",
    "        img, skimage.transform.AffineTransform(translation=np.random.randint(-4, 4)), mode='edge')),\n",
    "    (4, lambda img: apply_projection_transform(img))\n",
    "    # Other realistic perturbations would probably also increase robustness such as other affine transformations,\n",
    "    # brightness, contrast and blur\n",
    "]\n",
    "\n",
    "\n",
    "def extend_dataset_to_max(x, y, max_by_class=None, y_dtype=np.uint8, on_progress=None):\n",
    "    indices_by_class = group_by_class(y)\n",
    "\n",
    "    if max_by_class is None:\n",
    "        max_by_class = int(max(len(indices) for indices in indices_by_class.values()) * 1.5)\n",
    "    \n",
    "    total = max_by_class * len(indices_by_class.keys())\n",
    "    image_shape = x[0].shape\n",
    "\n",
    "    addon_x = np.empty(shape=(total, ) + image_shape, dtype=np.float64)\n",
    "    addon_y = np.empty(shape=(total, ), dtype=y_dtype)\n",
    "\n",
    "    dest_idx = 0\n",
    "    start_time = datetime.now()\n",
    "    prev_time = start_time\n",
    "\n",
    "    for cls, indices in indices_by_class.items():\n",
    "        if on_progress is not None:\n",
    "            on_progress(\"Processing class {} extending {} to {}\".format(cls, len(indices), max_by_class))\n",
    "\n",
    "        for img_idx in indices:\n",
    "            src_image = x[img_idx]\n",
    "            src_cls = y[img_idx]\n",
    "            if src_image.dtype.kind != 'f':\n",
    "                # Hack to accept uint8 and float type images as an input\n",
    "                src_image = skimage.img_as_float(src_image)\n",
    "\n",
    "            addon_x[dest_idx] = src_image\n",
    "            addon_y[dest_idx] = src_cls\n",
    "            dest_idx += 1\n",
    "            \n",
    "        to_add = max_by_class - len(indices)\n",
    "        mangler_idx = 0\n",
    "        img_idx_idx = 0\n",
    "        while to_add > 0:\n",
    "            img_idx = indices[img_idx_idx]\n",
    "            src_image = x[img_idx]\n",
    "            src_cls = y[img_idx]\n",
    "\n",
    "            if src_image.dtype.kind != 'f':\n",
    "                # Hack to accept uint8 and float type images as an input\n",
    "                src_image = skimage.img_as_float(src_image)\n",
    "\n",
    "            mangler = manglers[mangler_idx][1]\n",
    "            res = mangler(src_image)\n",
    "            \n",
    "            assert res.dtype == addon_x.dtype,\\\n",
    "                \"Data types must match, got {} and {}\".format(res.dtype, addon_x.dtype)\n",
    "                \n",
    "            addon_x[dest_idx] = res\n",
    "            addon_y[dest_idx] = src_cls\n",
    "            dest_idx += 1\n",
    "\n",
    "            to_add -= 1\n",
    "            mangler_idx = (mangler_idx + 1) % len(manglers)\n",
    "            img_idx_idx = (img_idx_idx + 1) % len(indices)\n",
    "\n",
    "            curr_time = datetime.now()\n",
    "            time_spent = curr_time - start_time\n",
    "            if on_progress is not None and (curr_time - prev_time).total_seconds() > 10:\n",
    "                rem_seconds = int(total * time_spent.total_seconds() / (dest_idx+1)) - int(time_spent.total_seconds())\n",
    "                on_progress(\"Processed {} out of {}, remaining {:2}m {:2}s\".format(\n",
    "                    dest_idx+1, total, int(rem_seconds / 60), rem_seconds % 60))\n",
    "                prev_time = curr_time\n",
    "\n",
    "    if on_progress is not None:\n",
    "        on_progress(\"Done\")\n",
    "    return addon_x, addon_y"
   ]
  },
  {
   "cell_type": "markdown",
   "metadata": {},
   "source": [
    "### Example of augmented images"
   ]
  },
  {
   "cell_type": "code",
   "execution_count": null,
   "metadata": {
    "collapsed": false,
    "scrolled": false
   },
   "outputs": [],
   "source": [
    "def display_examples_of_augmented_images(images, labels, max_by_class, rows=3):\n",
    "    for idx in range(rows):\n",
    "        image = images[idx]\n",
    "        cls = labels[idx]\n",
    "        mangled_images, mangled_images_y = extend_dataset_to_max([image], [y_train[idx]], max_by_class=max_by_class,\n",
    "                                                                 y_dtype=np.uint8)\n",
    "        display_images_in_line(\"Original and {} augmented images for class {}\".format(max_by_class, cls),\n",
    "                               [image] + list(mangled_images))"
   ]
  },
  {
   "cell_type": "code",
   "execution_count": null,
   "metadata": {
    "collapsed": false
   },
   "outputs": [],
   "source": [
    "import random\n",
    "\n",
    "rows=3\n",
    "indices = random.sample(range(len(X_train)), rows)\n",
    "display_examples_of_augmented_images(X_train[indices], y_train[indices], max_by_class=10, rows=rows)"
   ]
  },
  {
   "cell_type": "code",
   "execution_count": null,
   "metadata": {
    "collapsed": false,
    "scrolled": true
   },
   "outputs": [],
   "source": [
    "X_train_extended, y_train_extended = extend_dataset_to_max(X_train, y_train, on_progress=print)"
   ]
  },
  {
   "cell_type": "code",
   "execution_count": null,
   "metadata": {
    "collapsed": false,
    "scrolled": false
   },
   "outputs": [],
   "source": [
    "plot_counts_by_class(y_train_extended, 'Training examples by class - extended')"
   ]
  },
  {
   "cell_type": "markdown",
   "metadata": {},
   "source": [
    "### Normalizing the datasets and caching for future usage"
   ]
  },
  {
   "cell_type": "code",
   "execution_count": null,
   "metadata": {
    "collapsed": false,
    "scrolled": true
   },
   "outputs": [],
   "source": [
    "import functools\n",
    "\n",
    "# Select version\n",
    "normalize_input = functools.partial(process_data_parallel, process_single_item=normalize_single_item_3)"
   ]
  },
  {
   "cell_type": "code",
   "execution_count": null,
   "metadata": {
    "collapsed": true
   },
   "outputs": [],
   "source": [
    "import os\n",
    "\n",
    "data_directory = './data'\n",
    "os.makedirs(os.path.dirname(data_directory), exist_ok=True)\n",
    "\n",
    "def store_dataset(dataset_name, dataset):\n",
    "    with open(os.path.join(data_directory, dataset_name + '.npz'), 'wb') as fh:\n",
    "        np.savez(fh, features=dataset['features'], labels=dataset['labels'])\n",
    "\n",
    "def load_dataset(dataset_name):\n",
    "    with open(os.path.join(data_directory, dataset_name + '.npz'), 'rb') as fh:\n",
    "        file = np.load(fh)\n",
    "        return {'features': file['features'], 'labels': file['labels']}"
   ]
  },
  {
   "cell_type": "code",
   "execution_count": null,
   "metadata": {
    "collapsed": false
   },
   "outputs": [],
   "source": [
    "all_datasets = {\n",
    "    'train_extended': {'features': X_train_extended, 'labels': y_train_extended},\n",
    "    'train_extended_normalized': {'features': normalize_input(X_train_extended), 'labels': y_train_extended},\n",
    "    'valid_normalized': {'features': normalize_input(X_valid), 'labels': y_valid},\n",
    "    'test_normalized': {'features': normalize_input(X_test), 'labels': y_test}\n",
    "}"
   ]
  },
  {
   "cell_type": "code",
   "execution_count": null,
   "metadata": {
    "collapsed": false
   },
   "outputs": [],
   "source": [
    "for dataset_name in all_datasets:\n",
    "    store_dataset(dataset_name, all_datasets[dataset_name])\n",
    "del all_datasets\n",
    "\n",
    "import gc\n",
    "gc.collect()"
   ]
  },
  {
   "cell_type": "markdown",
   "metadata": {},
   "source": [
    "### Load normalized datasets for training and verification"
   ]
  },
  {
   "cell_type": "code",
   "execution_count": null,
   "metadata": {
    "collapsed": false
   },
   "outputs": [],
   "source": [
    "dataset = load_dataset('train_extended_normalized')\n",
    "X_train_extended, y_train_extended = dataset['features'], dataset['labels']\n",
    "\n",
    "image_shape = X_train_extended[0].shape\n",
    "n_classes = len(set(y_train_extended))\n",
    "\n",
    "dataset = load_dataset('valid_normalized')\n",
    "X_valid, y_valid = dataset['features'], dataset['labels']\n",
    "\n",
    "dataset = load_dataset('test_normalized')\n",
    "X_test, y_test = dataset['features'], dataset['labels']\n",
    "\n",
    "del dataset"
   ]
  },
  {
   "cell_type": "code",
   "execution_count": null,
   "metadata": {
    "collapsed": false
   },
   "outputs": [],
   "source": [
    "display_random_images(X_train_extended, y_train_extended)\n",
    "plot_counts_by_class(y_train_extended, 'Training examples by class - extended')"
   ]
  },
  {
   "cell_type": "code",
   "execution_count": null,
   "metadata": {
    "collapsed": false
   },
   "outputs": [],
   "source": [
    "from sklearn.utils import shuffle\n",
    "\n",
    "X_train_extended, y_train_extended = shuffle(X_train_extended, y_train_extended)"
   ]
  },
  {
   "cell_type": "markdown",
   "metadata": {},
   "source": [
    "### Model Architecture"
   ]
  },
  {
   "cell_type": "code",
   "execution_count": null,
   "metadata": {
    "collapsed": false
   },
   "outputs": [],
   "source": [
    "import tensorflow as tf\n",
    "\n",
    "class ChainBuilder(object):\n",
    "    def __init__(self, mean=None, stddev=None):\n",
    "        self._output = None\n",
    "        self._input = None\n",
    "        self._output_shape = None\n",
    "        self._mean = mean\n",
    "        self._stddev = stddev\n",
    "        self._regularizers = []\n",
    "\n",
    "    def input(self, input_data, input_shape):\n",
    "        self._input = input_data\n",
    "        self._output = input_data\n",
    "        self._output_shape = input_shape\n",
    "        return self\n",
    "\n",
    "    def conv2d(self, filter_shape, strides, name, padding='SAME'):\n",
    "        input_shape = self._output_shape\n",
    "    \n",
    "        if len(input_shape) < 3:\n",
    "            input_depth = 1\n",
    "        else:\n",
    "            input_depth = input_shape[2]\n",
    "            \n",
    "        with tf.variable_scope(name):\n",
    "            weights = tf.get_variable('weights',\n",
    "                                      shape=(filter_shape[0], filter_shape[1], input_depth, filter_shape[2]))\n",
    "        \n",
    "            biases = tf.get_variable('biases',\n",
    "                                     initializer=tf.zeros_initializer(),\n",
    "                                     shape=filter_shape[2])\n",
    "        \n",
    "            self._output = tf.nn.conv2d(self._output, weights, strides=[1]+strides+[1], padding=padding) + biases\n",
    "            self._output_shape = self._output.shape.as_list()[1:]\n",
    "            #self._regularizers.append(tf.nn.l2_loss(weights))\n",
    "        print(\"conv2d result: output_shape={}, output={}\".format(self._output_shape, self._output))\n",
    "        return self\n",
    "    \n",
    "    @property\n",
    "    def output(self):\n",
    "        return self._output\n",
    "    \n",
    "    @property\n",
    "    def output_shape(self):\n",
    "        return self._output_shape\n",
    "    \n",
    "    @property\n",
    "    def regularizers(self):\n",
    "        return self._regularizers\n",
    "    \n",
    "    def relu(self):\n",
    "        self._output = tf.nn.relu(self._output)\n",
    "        return self\n",
    "    \n",
    "    def max_pool(self, kernel, strides):\n",
    "        assert len(self._output_shape) == 3\n",
    "        self._output = tf.nn.max_pool(self._output,\n",
    "                                      ksize=[1, kernel[0], kernel[1], 1],\n",
    "                                      strides=[1]+strides+[1],\n",
    "                                      padding='SAME')\n",
    "        self._output_shape = self._output.shape.as_list()[1:]\n",
    "        print(\"max_pool result: output_shape={}, output={}\".format(self._output_shape, self._output))\n",
    "        return self\n",
    "    \n",
    "    def flatten(self):\n",
    "        assert len(self._output_shape) == 3\n",
    "        self._output = tf.contrib.layers.flatten(self._output)\n",
    "        #self._output_shape = [self._output_shape[0] * self._output_shape[1] * self._output_shape[2]]\n",
    "        self._output_shape = self._output.shape.as_list()[1:]\n",
    "        print(\"flatten result: output_shape={}, output={}\".format(self._output_shape, self._output))\n",
    "        return self\n",
    "    \n",
    "    def dropout(self, keep_prob):\n",
    "        self._output = tf.nn.dropout(self._output, keep_prob)\n",
    "        return self\n",
    "    \n",
    "    def concat(self, what):\n",
    "        self._output = tf.concat([self._output] + what, 1)\n",
    "        #self._output_shape = [self._output.shape.as_list()[1]]\n",
    "        self._output_shape = self._output.shape.as_list()[1:]\n",
    "        return self\n",
    "    \n",
    "    def fc(self, output_n, name):\n",
    "        assert len(self._output_shape) == 1\n",
    "\n",
    "        with tf.variable_scope(name):\n",
    "            weights = tf.get_variable('weights',\n",
    "                                     shape=(self._output_shape[0], output_n))\n",
    "            biases = tf.get_variable('biases',\n",
    "                                     initializer=tf.zeros_initializer(),\n",
    "                                     shape=(output_n,))\n",
    "            self._regularizers.append(tf.nn.l2_loss(weights))\n",
    "        \n",
    "        fc = tf.matmul(self._output, weights) + biases\n",
    "        self._output = fc\n",
    "        #self._output_shape = [output_n]\n",
    "        self._output_shape = self._output.shape.as_list()[1:]\n",
    "        print(\"fc result: output_shape={}, output={}\".format(self._output_shape, self._output))\n",
    "        return self"
   ]
  },
  {
   "cell_type": "code",
   "execution_count": null,
   "metadata": {
    "collapsed": true
   },
   "outputs": [],
   "source": [
    "# Standard LeNet architecture\n",
    "def create_model_lenet(input_data, n_classes, keep_prob):\n",
    "    with tf.variable_scope('lenet', initializer=tf.contrib.layers.xavier_initializer()):\n",
    "        builder = ChainBuilder()\n",
    "        builder.input(input_data, input_data[0].shape.as_list()[0:3]).\\\n",
    "            conv2d([5, 5, 6], [1, 1], 'conv_1', 'VALID').relu().\\\n",
    "            max_pool([2, 2], [2, 2]).\\\n",
    "            dropout(keep_prob[0]).\\\n",
    "            conv2d([5, 5, 16], [1, 1], 'conv_2', 'VALID').relu().\\\n",
    "            max_pool([2, 2], [2, 2]).\\\n",
    "            dropout(keep_prob[1]).\\\n",
    "            flatten().\\\n",
    "            fc(400, 'fc_1').relu().\\\n",
    "            dropout(keep_prob[2]).\\\n",
    "            fc(100, 'fc_2').relu().\\\n",
    "            dropout(keep_prob[3]).\\\n",
    "            fc(n_classes, 'fc_3')\n",
    "    return builder.output, builder.regularizers"
   ]
  },
  {
   "cell_type": "code",
   "execution_count": null,
   "metadata": {
    "collapsed": true
   },
   "outputs": [],
   "source": [
    "# Multiscale\n",
    "def create_model_ms10(input_data, n_classes, keep_prob):\n",
    "    with tf.variable_scope('ms10', initializer=tf.contrib.layers.xavier_initializer()):\n",
    "        builder1 = ChainBuilder()\n",
    "        builder1.input(input_data, input_data[0].shape.as_list()[0:3]).\\\n",
    "            conv2d([5, 5, 32], [1, 1], 'conv_1').relu().\\\n",
    "            max_pool([2, 2], [2, 2]).\\\n",
    "            dropout(keep_prob[0])\n",
    "        builder2 = ChainBuilder()\n",
    "        builder2.input(builder1.output, builder1.output_shape).\\\n",
    "            conv2d([5, 5, 128], [1, 1], 'conv_2').relu().\\\n",
    "            max_pool([2, 2], [2, 2]).\\\n",
    "            dropout(keep_prob[1]).\\\n",
    "            flatten().\\\n",
    "            concat([builder1.max_pool([2, 2], [2, 2]).flatten().output]).\\\n",
    "            fc(400, 'fc_1').relu().\\\n",
    "            dropout(keep_prob[3]).\\\n",
    "            fc(n_classes, 'fc_2')\n",
    "    return builder2.output, builder2.regularizers"
   ]
  },
  {
   "cell_type": "code",
   "execution_count": null,
   "metadata": {
    "collapsed": true
   },
   "outputs": [],
   "source": [
    "# Multiscale\n",
    "def create_model_ms10_1(input_data, n_classes, keep_prob):\n",
    "    with tf.variable_scope('ms10_1', initializer=tf.contrib.layers.xavier_initializer()):\n",
    "        builder1 = ChainBuilder()\n",
    "        builder1.input(input_data, input_data[0].shape.as_list()[0:3]).\\\n",
    "            conv2d([5, 5, 128], [1, 1], 'conv_1').relu().\\\n",
    "            max_pool([2, 2], [2, 2]).\\\n",
    "            dropout(keep_prob[0])\n",
    "        builder2 = ChainBuilder()\n",
    "        builder2.input(builder1.output, builder1.output_shape).\\\n",
    "            conv2d([5, 5, 128], [1, 1], 'conv_2').relu().\\\n",
    "            max_pool([2, 2], [2, 2]).\\\n",
    "            dropout(keep_prob[1]).\\\n",
    "            flatten().\\\n",
    "            concat([builder1.max_pool([2, 2], [2, 2]).flatten().output]).\\\n",
    "            fc(400, 'fc_1').relu().\\\n",
    "            dropout(keep_prob[3]).\\\n",
    "            fc(n_classes, 'fc_2')\n",
    "    return builder2.output, builder2.regularizers"
   ]
  },
  {
   "cell_type": "code",
   "execution_count": null,
   "metadata": {
    "collapsed": true
   },
   "outputs": [],
   "source": [
    "# Multiscale\n",
    "def create_model_ms10_2(input_data, n_classes, keep_prob):\n",
    "    with tf.variable_scope('ms10_2', initializer=tf.contrib.layers.xavier_initializer()):\n",
    "        builder1 = ChainBuilder()\n",
    "        builder1.input(input_data, input_data[0].shape.as_list()[0:3]).\\\n",
    "            conv2d([5, 5, 32], [1, 1], 'conv_1').relu().\\\n",
    "            max_pool([2, 2], [2, 2]).\\\n",
    "            dropout(keep_prob[0])\n",
    "        builder2 = ChainBuilder()\n",
    "        builder2.input(builder1.output, builder1.output_shape).\\\n",
    "            conv2d([5, 5, 128], [1, 1], 'conv_2').relu().\\\n",
    "            max_pool([2, 2], [2, 2]).\\\n",
    "            dropout(keep_prob[1]).\\\n",
    "            flatten().\\\n",
    "            concat([builder1.max_pool([2, 2], [2, 2]).flatten().output]).\\\n",
    "            fc(200, 'fc_1').relu().\\\n",
    "            dropout(keep_prob[3]).\\\n",
    "            fc(n_classes, 'fc_2')\n",
    "    return builder2.output, builder2.regularizers"
   ]
  },
  {
   "cell_type": "code",
   "execution_count": null,
   "metadata": {
    "collapsed": true
   },
   "outputs": [],
   "source": [
    "# Multiscale\n",
    "def create_model_ms10_3(input_data, n_classes, keep_prob):\n",
    "    with tf.variable_scope('ms10_3', initializer=tf.contrib.layers.xavier_initializer()):\n",
    "        builder1 = ChainBuilder()\n",
    "        builder1.input(input_data, input_data[0].shape.as_list()[0:3]).\\\n",
    "            conv2d([5, 5, 32], [1, 1], 'conv_1').relu().\\\n",
    "            max_pool([2, 2], [2, 2]).\\\n",
    "            dropout(keep_prob[0])\n",
    "        builder2 = ChainBuilder()\n",
    "        builder2.input(builder1.output, builder1.output_shape).\\\n",
    "            conv2d([5, 5, 64], [1, 1], 'conv_2').relu().\\\n",
    "            max_pool([2, 2], [2, 2]).\\\n",
    "            dropout(keep_prob[1]).\\\n",
    "            flatten().\\\n",
    "            concat([builder1.max_pool([2, 2], [2, 2]).flatten().output]).\\\n",
    "            fc(400, 'fc_1').relu().\\\n",
    "            dropout(keep_prob[3]).\\\n",
    "            fc(n_classes, 'fc_2')\n",
    "    return builder2.output, builder2.regularizers"
   ]
  },
  {
   "cell_type": "code",
   "execution_count": null,
   "metadata": {
    "collapsed": true
   },
   "outputs": [],
   "source": [
    "# Multiscale\n",
    "def create_model_ms10_4(input_data, n_classes, keep_prob):\n",
    "    with tf.variable_scope('ms10_4', initializer=tf.contrib.layers.xavier_initializer()):\n",
    "        builder1 = ChainBuilder()\n",
    "        builder1.input(input_data, input_data[0].shape.as_list()[0:3]).\\\n",
    "            conv2d([5, 5, 32], [1, 1], 'conv_1').relu().\\\n",
    "            max_pool([2, 2], [2, 2]).\\\n",
    "            dropout(keep_prob[0])\n",
    "        builder2 = ChainBuilder()\n",
    "        builder2.input(builder1.output, builder1.output_shape).\\\n",
    "            conv2d([5, 5, 64], [1, 1], 'conv_2').relu().\\\n",
    "            max_pool([2, 2], [2, 2]).\\\n",
    "            dropout(keep_prob[1]).\\\n",
    "            flatten().\\\n",
    "            concat([builder1.max_pool([2, 2], [2, 2]).flatten().output]).\\\n",
    "            fc(200, 'fc_1').relu().\\\n",
    "            dropout(keep_prob[3]).\\\n",
    "            fc(n_classes, 'fc_2')\n",
    "    return builder2.output, builder2.regularizers"
   ]
  },
  {
   "cell_type": "markdown",
   "metadata": {},
   "source": [
    "### Train, Validate and Test the Model"
   ]
  },
  {
   "cell_type": "markdown",
   "metadata": {},
   "source": [
    "A validation set can be used to assess how well the model is performing. A low accuracy on the training and validation\n",
    "sets imply underfitting. A high accuracy on the training set but low accuracy on the validation set implies overfitting."
   ]
  },
  {
   "cell_type": "code",
   "execution_count": null,
   "metadata": {
    "collapsed": false
   },
   "outputs": [],
   "source": [
    "### Train your model here.\n",
    "### Calculate and report the accuracy on the training and validation set.\n",
    "### Once a final model architecture is selected, \n",
    "### the accuracy on the test set should be calculated and reported as well.\n",
    "### Feel free to use as many code cells as needed.\n",
    "\n",
    "EPOCHS = 300\n",
    "BATCH_SIZE = 128\n",
    "learning_rate = 0.0001\n",
    "INPUT_KEEP_PROB = [0.9, 0.9, 0.9, 0.5]\n",
    "L2_lambda = 0.001\n",
    "PATIENCE_EPOCHS = 40\n",
    "\n",
    "state_file = './ms10_1.3_state/model'\n",
    "namespace = \"ms10_1\"\n",
    "create_model = create_model_ms10_1\n",
    "\n",
    "#state_file = './lenet.2_state/model'\n",
    "#namespace = \"lenet.2\"\n",
    "#create_model = create_model_lenet\n",
    "\n",
    "state_file_best = state_file + \".best\""
   ]
  },
  {
   "cell_type": "code",
   "execution_count": null,
   "metadata": {
    "collapsed": false,
    "scrolled": false
   },
   "outputs": [],
   "source": [
    "os.makedirs(os.path.dirname(state_file), exist_ok=True)\n",
    "tf.reset_default_graph()\n",
    "\n",
    "image_shape = X_train_extended[0].shape\n",
    "n_classes = len(set(y_train_extended))\n",
    "input_x = tf.placeholder(tf.float32, [None] + list(image_shape))\n",
    "input_y = tf.placeholder(tf.int32, (None, ))\n",
    "\n",
    "output_one_hot_y = tf.one_hot(input_y, n_classes)\n",
    "keep_prob = tf.placeholder(tf.float32, shape=(4,), name='keep_prob')\n",
    "logits, regularizers = create_model(input_x, n_classes, keep_prob)\n",
    "cross_entropy = tf.nn.softmax_cross_entropy_with_logits(logits=logits, labels=output_one_hot_y)\n",
    "loss_operation = tf.reduce_mean(cross_entropy) + L2_lambda * sum(regularizers)\n",
    "optimizer = tf.train.AdamOptimizer(learning_rate=learning_rate)\n",
    "training_operation = optimizer.minimize(loss_operation)\n",
    "correct_prediction = tf.equal(tf.argmax(logits, 1), tf.argmax(output_one_hot_y, 1))\n",
    "accuracy_operation = tf.reduce_mean(tf.cast(correct_prediction, tf.float32))\n",
    "\n",
    "def evaluate(X_data, y_data, batch_size):\n",
    "    num_examples = len(X_data)\n",
    "    total_accuracy = 0\n",
    "    sess = tf.get_default_session()\n",
    "    for offset in range(0, num_examples, batch_size):\n",
    "        batch_x, batch_y = X_data[offset:offset+batch_size], y_data[offset:offset+batch_size]\n",
    "        accuracy = sess.run(accuracy_operation, feed_dict={input_x: batch_x, input_y: batch_y,\n",
    "                                                           keep_prob: [1.0] * keep_prob.shape[0]})\n",
    "        total_accuracy += (accuracy * len(batch_x))\n",
    "    return total_accuracy / num_examples"
   ]
  },
  {
   "cell_type": "code",
   "execution_count": null,
   "metadata": {
    "collapsed": true
   },
   "outputs": [],
   "source": [
    "import numpy as np\n",
    "\n",
    "\n",
    "def store_history(state_file, train_accuracy, validation_accuracy):\n",
    "    path = os.path.join(os.path.dirname(state_file), 'history.npz')\n",
    "    with open(path, 'wb') as fh:\n",
    "        np.savez(fh, train_accuracy=train_accuracy, validation_accuracy=validation_accuracy)\n",
    "\n",
    "        \n",
    "def load_history(state_file):\n",
    "    path = os.path.join(os.path.dirname(state_file), 'history.npz')\n",
    "    with open(path, 'rb') as fh:\n",
    "        file = np.load(fh)\n",
    "        return file['train_accuracy'].tolist(), file['validation_accuracy'].tolist()"
   ]
  },
  {
   "cell_type": "code",
   "execution_count": null,
   "metadata": {
    "collapsed": true
   },
   "outputs": [],
   "source": [
    "def train_the_model(X_train, y_train, X_valid, y_valid, batch_size, epochs, input_keep_prob,\n",
    "                    continue_training=False,\n",
    "                    state_file=None,\n",
    "                    patience_epochs=10):\n",
    "    %matplotlib notebook\n",
    "    plt.rcdefaults()\n",
    "    #matplotlib.rcParams['figure.figsize'] = (10.0, 5.0)\n",
    "    #fig = plt.figure(figsize=(3.0, 3.0), dpi=255)\n",
    "    #fig = plt.figure(dpi=255)\n",
    "    fig = plt.figure()\n",
    "    ax = fig.add_subplot(111)\n",
    "    plt.ion()\n",
    "    ax.set_xlabel('Epochs')\n",
    "    ax.set_ylabel('Accuracy')\n",
    "    ax.set_xlim(0, epochs)\n",
    "    ax.set_ylim(0.9, 1.0)\n",
    "    ax.set_yscale('log')\n",
    "    fig.show()\n",
    "    fig.canvas.draw()\n",
    "    \n",
    "    def plot_points(points_list, colors):\n",
    "        ax.clear()\n",
    "        #ax.set_xlim(0, epochs)\n",
    "        #ax.set_yscale('log')\n",
    "        #ax.set_xscale('linear')\n",
    "        plt.grid()\n",
    "        for points, color in zip(points_list, colors):\n",
    "            ax.plot(points, color=color, linewidth=2)\n",
    "        fig.canvas.draw()\n",
    "    \n",
    "    def print_progress(epoch, train_accuracy, validation_accuracy, is_best):\n",
    "        print(\"EPOCH {:3}, Train Accuracy = {:.5f}, Validation Accuracy = {:.5f}{}\".format(\n",
    "                epoch+1,\n",
    "                train_accuracy,\n",
    "                validation_accuracy, \"<-- best so far\" if is_best else \"\"))\n",
    "    \n",
    "    saver = tf.train.Saver()\n",
    "    \n",
    "    train_accuracy_hist = []\n",
    "    validation_accuracy_hist = []\n",
    "    \n",
    "    with tf.Session(config=tf.ConfigProto(log_device_placement=True)) as sess:\n",
    "        sess.run(tf.global_variables_initializer())\n",
    "        num_examples = len(X_train)\n",
    "\n",
    "        epoch_start = 0\n",
    "        best_validation_accuracy = 0\n",
    "        best_validation_accuracy_epoch = 0\n",
    "        \n",
    "        if continue_training:\n",
    "            print(\"Loading training data...\")\n",
    "\n",
    "            saver.restore(sess, state_file)\n",
    "            train_accuracy_hist, validation_accuracy_hist = load_history(state_file)\n",
    "            epoch_start = len(train_accuracy_hist)\n",
    "            \n",
    "            for i in range(len(validation_accuracy_hist)):\n",
    "                if validation_accuracy_hist[i] > best_validation_accuracy:\n",
    "                    best_validation_accuracy_epoch = i\n",
    "                    best_validation_accuracy = validation_accuracy_hist[i]\n",
    "            \n",
    "            for i in range(len(train_accuracy_hist)):\n",
    "                print_progress(i, train_accuracy_hist[i], validation_accuracy_hist[i],\n",
    "                               is_best=(i == best_validation_accuracy_epoch))\n",
    "            \n",
    "            plot_points([train_accuracy_hist, validation_accuracy_hist], ['r', 'b'])\n",
    "            \n",
    "            print(\"Loaded best epoch {}, Validation Accuracy = {:.5f}\".format(\n",
    "                best_validation_accuracy_epoch+1, best_validation_accuracy))\n",
    "            print(\"Continuing training...\")\n",
    "                \n",
    "        else:\n",
    "            print(\"Starting training...\")\n",
    "            \n",
    "        for i in range(epoch_start, epochs):\n",
    "            X_train, y_train = shuffle(X_train, y_train)\n",
    "            for offset in range(0, num_examples, batch_size):\n",
    "                end = offset + batch_size\n",
    "                batch_x, batch_y = X_train[offset:end], y_train[offset:end]\n",
    "                sess.run(training_operation, feed_dict={input_x: batch_x, input_y: batch_y,\n",
    "                                                        keep_prob: input_keep_prob})\n",
    "                \n",
    "            train_accuracy = evaluate(X_train, y_train, batch_size)\n",
    "            validation_accuracy = evaluate(X_valid, y_valid, batch_size)\n",
    "\n",
    "            train_accuracy_hist.append(train_accuracy)\n",
    "            validation_accuracy_hist.append(validation_accuracy)\n",
    "            \n",
    "            if validation_accuracy > best_validation_accuracy:\n",
    "                best_validation_accuracy = validation_accuracy\n",
    "                best_validation_accuracy_epoch = i\n",
    "                saver.save(sess, state_file + \".best\")\n",
    "                \n",
    "            print_progress(i, train_accuracy, validation_accuracy, is_best=(best_validation_accuracy_epoch == i))\n",
    "            plot_points([train_accuracy_hist, validation_accuracy_hist], ['r', 'b'])\n",
    "            saver.save(sess, state_file)\n",
    "            store_history(state_file, train_accuracy_hist, validation_accuracy_hist)\n",
    "            \n",
    "            if i - best_validation_accuracy_epoch > patience_epochs:\n",
    "                print(\"Stopping early - lost patience\")\n",
    "                break\n",
    "\n",
    "        print(\"Best model stored in {}\".format(state_file_best))\n",
    "        print(\"... EPOCH {:3}, Validation Accuracy = {:.5f}\".format(best_validation_accuracy_epoch,\n",
    "                                                                    best_validation_accuracy))"
   ]
  },
  {
   "cell_type": "markdown",
   "metadata": {},
   "source": [
    "#### Training the model"
   ]
  },
  {
   "cell_type": "code",
   "execution_count": null,
   "metadata": {
    "collapsed": true
   },
   "outputs": [],
   "source": [
    "continue_training = True"
   ]
  },
  {
   "cell_type": "code",
   "execution_count": null,
   "metadata": {
    "collapsed": false,
    "scrolled": false
   },
   "outputs": [],
   "source": [
    "train_the_model(X_train_extended, y_train_extended, X_valid, y_valid, BATCH_SIZE, EPOCHS, INPUT_KEEP_PROB,\n",
    "                continue_training=continue_training, state_file=state_file, patience_epochs=PATIENCE_EPOCHS)"
   ]
  },
  {
   "cell_type": "markdown",
   "metadata": {},
   "source": [
    "#### Test accuracy"
   ]
  },
  {
   "cell_type": "code",
   "execution_count": null,
   "metadata": {
    "collapsed": false
   },
   "outputs": [],
   "source": [
    "with tf.Session() as sess:\n",
    "    saver = tf.train.Saver()\n",
    "    saver.restore(sess, state_file_best)\n",
    "    test_accuracy = evaluate(X_test, y_test, BATCH_SIZE)\n",
    "    print(\"Test Accuracy = {:.3f}\".format(test_accuracy))"
   ]
  },
  {
   "cell_type": "markdown",
   "metadata": {},
   "source": [
    "---\n",
    "\n",
    "## Step 3: Test a Model on New Images\n",
    "\n",
    "To give yourself more insight into how your model is working, download at least five pictures of German traffic signs from the web and use your model to predict the traffic sign type.\n",
    "\n",
    "You may find `signnames.csv` useful as it contains mappings from the class id (integer) to the actual sign name."
   ]
  },
  {
   "cell_type": "markdown",
   "metadata": {},
   "source": [
    "### Load and Output the Images"
   ]
  },
  {
   "cell_type": "code",
   "execution_count": null,
   "metadata": {
    "collapsed": false
   },
   "outputs": [],
   "source": [
    "### Load the images and plot them here.\n",
    "### Feel free to use as many code cells as needed.\n",
    "\n",
    "%matplotlib inline\n",
    "\n",
    "import skimage.io\n",
    "import skimage.transform\n",
    "import os\n",
    "\n",
    "images_dir = './web_images'\n",
    "images = []\n",
    "classes = []\n",
    "for cls_id in os.listdir(images_dir):\n",
    "    cls_dir = os.path.join(images_dir, cls_id)\n",
    "    if os.path.isdir(cls_dir):\n",
    "        for fname in os.listdir(cls_dir):\n",
    "            if fname.endswith(('.jpg', '.png')):\n",
    "                images.append(skimage.io.imread(os.path.join(cls_dir, fname)))\n",
    "                classes.append(int(cls_id))\n",
    "        \n",
    "\n",
    "image_shape = (32, 32, 3)\n",
    "resized = [\n",
    "    skimage.transform.resize(img, (image_shape[0], image_shape[1]))\n",
    "    for img in images\n",
    "]\n",
    "\n",
    "display_images_in_line(\"Original\", images)\n",
    "display_images_in_line(\"Resized\", resized)"
   ]
  },
  {
   "cell_type": "markdown",
   "metadata": {},
   "source": [
    "### Predict the Sign Type for Each Image"
   ]
  },
  {
   "cell_type": "code",
   "execution_count": null,
   "metadata": {
    "collapsed": false
   },
   "outputs": [],
   "source": [
    "### Run the predictions here and use the model to output the prediction for each image.\n",
    "### Make sure to pre-process the images with the same pre-processing pipeline used earlier.\n",
    "### Feel free to use as many code cells as needed.\n",
    "\n",
    "X_web_orig = np.asarray(resized)\n",
    "X_web = normalize_input(X_web_orig)\n",
    "y_web = np.asarray(classes)\n",
    "\n",
    "saver = tf.train.Saver()\n",
    "\n",
    "# Launch the graph\n",
    "with tf.Session() as sess:\n",
    "    saver.restore(sess, state_file_best)\n",
    "\n",
    "    result = sess.run(tf.argmax(logits, 1), feed_dict={input_x: X_web, input_y: y_web,\n",
    "                                                       keep_prob: [1.0] * keep_prob.shape[0]})\n",
    "\n",
    "    print(\"Result   = {}\".format(result))\n",
    "    print(\"Expected = {}\".format(y_web))\n",
    "    print()"
   ]
  },
  {
   "cell_type": "markdown",
   "metadata": {},
   "source": [
    "### Analyze Performance"
   ]
  },
  {
   "cell_type": "code",
   "execution_count": null,
   "metadata": {
    "collapsed": false
   },
   "outputs": [],
   "source": [
    "### Calculate the accuracy for these 5 new images. \n",
    "### For example, if the model predicted 1 out of 5 signs correctly, it's 20% accurate on these new images.\n",
    "\n",
    "with tf.Session() as sess:\n",
    "    saver.restore(sess, state_file_best)\n",
    "    validation_accuracy = evaluate(X_web, y_web, BATCH_SIZE)\n",
    "    print(\"Validation Accuracy = {:.3f}\".format(validation_accuracy))"
   ]
  },
  {
   "cell_type": "markdown",
   "metadata": {},
   "source": [
    "### Output Top 5 Softmax Probabilities For Each Image Found on the Web"
   ]
  },
  {
   "cell_type": "markdown",
   "metadata": {},
   "source": [
    "For each of the new images, print out the model's softmax probabilities to show the **certainty** of the model's predictions (limit the output to the top 5 probabilities for each image). [`tf.nn.top_k`](https://www.tensorflow.org/versions/r0.12/api_docs/python/nn.html#top_k) could prove helpful here. \n",
    "\n",
    "The example below demonstrates how tf.nn.top_k can be used to find the top k predictions for each image.\n",
    "\n",
    "`tf.nn.top_k` will return the values and indices (class ids) of the top k predictions. So if k=3, for each sign, it'll return the 3 largest probabilities (out of a possible 43) and the correspoding class ids.\n",
    "\n",
    "Take this numpy array as an example. The values in the array represent predictions. The array contains softmax probabilities for five candidate images with six possible classes. `tk.nn.top_k` is used to choose the three classes with the highest probability:\n",
    "\n",
    "```\n",
    "# (5, 6) array\n",
    "a = np.array([[ 0.24879643,  0.07032244,  0.12641572,  0.34763842,  0.07893497,\n",
    "         0.12789202],\n",
    "       [ 0.28086119,  0.27569815,  0.08594638,  0.0178669 ,  0.18063401,\n",
    "         0.15899337],\n",
    "       [ 0.26076848,  0.23664738,  0.08020603,  0.07001922,  0.1134371 ,\n",
    "         0.23892179],\n",
    "       [ 0.11943333,  0.29198961,  0.02605103,  0.26234032,  0.1351348 ,\n",
    "         0.16505091],\n",
    "       [ 0.09561176,  0.34396535,  0.0643941 ,  0.16240774,  0.24206137,\n",
    "         0.09155967]])\n",
    "```\n",
    "\n",
    "Running it through `sess.run(tf.nn.top_k(tf.constant(a), k=3))` produces:\n",
    "\n",
    "```\n",
    "TopKV2(values=array([[ 0.34763842,  0.24879643,  0.12789202],\n",
    "       [ 0.28086119,  0.27569815,  0.18063401],\n",
    "       [ 0.26076848,  0.23892179,  0.23664738],\n",
    "       [ 0.29198961,  0.26234032,  0.16505091],\n",
    "       [ 0.34396535,  0.24206137,  0.16240774]]), indices=array([[3, 0, 5],\n",
    "       [0, 1, 4],\n",
    "       [0, 5, 1],\n",
    "       [1, 3, 5],\n",
    "       [1, 4, 3]], dtype=int32))\n",
    "```\n",
    "\n",
    "Looking just at the first row we get `[ 0.34763842,  0.24879643,  0.12789202]`, you can confirm these are the 3 largest probabilities in `a`. You'll also notice `[3, 0, 5]` are the corresponding indices."
   ]
  },
  {
   "cell_type": "markdown",
   "metadata": {
    "collapsed": true
   },
   "source": [
    "##### Print out the top five softmax probabilities for the predictions on the German traffic sign images found on the web. "
   ]
  },
  {
   "cell_type": "code",
   "execution_count": null,
   "metadata": {
    "collapsed": false
   },
   "outputs": [],
   "source": [
    "top_n = 5\n",
    "\n",
    "with tf.Session() as sess:\n",
    "    saver.restore(sess, state_file_best)\n",
    "    result = sess.run(tf.nn.top_k(tf.nn.softmax(logits), top_n),\n",
    "                      feed_dict={input_x: X_web, input_y: y_web,\n",
    "                                 keep_prob: [1.0] * keep_prob.shape[0]})"
   ]
  },
  {
   "cell_type": "code",
   "execution_count": null,
   "metadata": {
    "collapsed": false
   },
   "outputs": [],
   "source": [
    "import pandas as pd\n",
    "signnames_df = pd.read_csv('./signnames.csv')"
   ]
  },
  {
   "cell_type": "code",
   "execution_count": null,
   "metadata": {
    "collapsed": false,
    "scrolled": false
   },
   "outputs": [],
   "source": [
    "%matplotlib inline\n",
    "plt.rcdefaults()\n",
    "\n",
    "indices = result.indices\n",
    "values = result.values\n",
    "images = X_web_orig\n",
    "classes = y_web\n",
    "\n",
    "for img_idx in range(len(values)):\n",
    "    fig, axes = plt.subplots(1, 2, figsize=(10, 4))\n",
    "    fig.subplots_adjust(wspace=0.5)\n",
    "    img_ax = axes[0]\n",
    "    bar_ax = axes[1]\n",
    "\n",
    "    img_ax.imshow(images[img_idx])\n",
    "    expected_cls = classes[img_idx]\n",
    "    img_ax.set_title(\"{} ({})\".format(signnames_df.loc[expected_cls].SignName, expected_cls))\n",
    "    img_ax.axis('off')\n",
    "\n",
    "    idx = np.arange(top_n)\n",
    "    cls_prob = [values[img_idx][i] for i in idx]\n",
    "    rects = bar_ax.barh(idx, cls_prob, 0.75)\n",
    "    for i, prob in enumerate(cls_prob):\n",
    "        bar_ax.text(prob, i, \"{:6.1f}\".format(prob), verticalalignment='center')\n",
    "        \n",
    "    bar_ax.set_yticks(idx)\n",
    "    ticklabels = [\n",
    "        \"{} ({})\".format(item[2], item[1])\n",
    "        for item in signnames_df.loc[indices[img_idx]].itertuples()\n",
    "    ]\n",
    "    bar_ax.set_yticklabels(ticklabels, minor=False)\n",
    "    #bar_ax.set_ylabel('Class')\n",
    "    bar_ax.set_xlabel('Probability')\n",
    "    bar_ax.xaxis.set_view_interval(vmin=0.0, vmax=1.0)\n",
    "    plt.tight_layout()\n",
    "    plt.show()"
   ]
  },
  {
   "cell_type": "markdown",
   "metadata": {},
   "source": [
    "---\n",
    "\n",
    "## Step 4: Visualize the Neural Network's State with Test Images\n",
    "\n",
    " This Section is not required to complete but acts as an additional excersise for understaning the output of a neural network's weights. While neural networks can be a great learning device they are often referred to as a black box. We can understand what the weights of a neural network look like better by plotting their feature maps. After successfully training your neural network you can see what it's feature maps look like by plotting the output of the network's weight layers in response to a test stimuli image. From these plotted feature maps, it's possible to see what characteristics of an image the network finds interesting. For a sign, maybe the inner network feature maps react with high activation to the sign's boundary outline or to the contrast in the sign's painted symbol.\n",
    "\n",
    " Provided for you below is the function code that allows you to get the visualization output of any tensorflow weight layer you want. The inputs to the function should be a stimuli image, one used during training or a new one you provided, and then the tensorflow variable name that represents the layer's state during the training process, for instance if you wanted to see what the [LeNet lab's](https://classroom.udacity.com/nanodegrees/nd013/parts/fbf77062-5703-404e-b60c-95b78b2f3f9e/modules/6df7ae49-c61c-4bb2-a23e-6527e69209ec/lessons/601ae704-1035-4287-8b11-e2c2716217ad/concepts/d4aca031-508f-4e0b-b493-e7b706120f81) feature maps looked like for it's second convolutional layer you could enter conv2 as the tf_activation variable.\n",
    "\n",
    "For an example of what feature map outputs look like, check out NVIDIA's results in their paper [End-to-End Deep Learning for Self-Driving Cars](https://devblogs.nvidia.com/parallelforall/deep-learning-self-driving-cars/) in the section Visualization of internal CNN State. NVIDIA was able to show that their network's inner weights had high activations to road boundary lines by comparing feature maps from an image with a clear path to one without. Try experimenting with a similar test to show that your trained network's weights are looking for interesting features, whether it's looking at differences in feature maps from images with or without a sign, or even what feature maps look like in a trained network vs a completely untrained one on the same sign image.\n",
    "\n",
    "<figure>\n",
    " <img src=\"visualize_cnn.png\" width=\"380\" alt=\"Combined Image\" />\n",
    " <figcaption>\n",
    " <p></p> \n",
    " <p style=\"text-align: center;\"> Your output should look something like this (above)</p> \n",
    " </figcaption>\n",
    "</figure>\n",
    " <p></p> \n"
   ]
  },
  {
   "cell_type": "code",
   "execution_count": null,
   "metadata": {
    "collapsed": true
   },
   "outputs": [],
   "source": [
    "### Visualize your network's feature maps here.\n",
    "### Feel free to use as many code cells as needed.\n",
    "\n",
    "# image_input: the test image being fed into the network to produce the feature maps\n",
    "# tf_activation: should be a tf variable name used during your training procedure that represents the calculated state of a specific weight layer\n",
    "# activation_min/max: can be used to view the activation contrast in more detail, by default matplot sets min and max to the actual min and max values of the output\n",
    "# plt_num: used to plot out multiple different weight feature map sets on the same block, just extend the plt number for each new feature map entry\n",
    "\n",
    "def outputFeatureMap(image_input, tf_activation, sess, activation_min=-1, activation_max=-1 ,plt_num=1):\n",
    "    # Here make sure to preprocess your image_input in a way your network expects\n",
    "    # with size, normalization, ect if needed\n",
    "    # image_input =\n",
    "    # Note: x should be the same name as your network's tensorflow data placeholder variable\n",
    "    # If you get an error tf_activation is not defined it maybe having trouble accessing the variable from inside a function\n",
    "    activation = tf_activation.eval(session=sess,feed_dict={input_x : image_input,\n",
    "                                                            keep_prob: [1.0] * keep_prob.shape[0]})\n",
    "    featuremaps = activation.shape[3]\n",
    "    plt.figure(plt_num, figsize=(15,15))\n",
    "    for featuremap in range(featuremaps):\n",
    "        plt.subplot(15,17, featuremap+1) # sets the number of feature maps to show on each row and column\n",
    "        #plt.title(str(featuremap)) # displays the feature map number\n",
    "        plt.subplots_adjust(hspace=0.0, wspace=0.0)\n",
    "        plt.axis('off')\n",
    "        if activation_min != -1 & activation_max != -1:\n",
    "            plt.imshow(activation[0,:,:, featuremap], interpolation=\"nearest\", vmin =activation_min, vmax=activation_max, cmap=\"gray\")\n",
    "        elif activation_max != -1:\n",
    "            plt.imshow(activation[0,:,:, featuremap], interpolation=\"nearest\", vmax=activation_max, cmap=\"gray\")\n",
    "        elif activation_min !=-1:\n",
    "            plt.imshow(activation[0,:,:, featuremap], interpolation=\"nearest\", vmin=activation_min, cmap=\"gray\")\n",
    "        else:\n",
    "            plt.imshow(activation[0,:,:, featuremap], interpolation=\"nearest\", cmap=\"gray\")"
   ]
  },
  {
   "cell_type": "code",
   "execution_count": null,
   "metadata": {
    "collapsed": false,
    "scrolled": false
   },
   "outputs": [],
   "source": [
    "%matplotlib inline\n",
    "\n",
    "sample_input = X_test[300]\n",
    "\n",
    "with tf.Session() as sess:\n",
    "    saver.restore(sess, state_file_best)\n",
    "    outputFeatureMap([sample_input], tf.get_default_graph().get_tensor_by_name(\n",
    "        \"{}/conv_1/add:0\".format(namespace)), sess)\n",
    "    plt.show()\n",
    "    outputFeatureMap([sample_input], tf.get_default_graph().get_tensor_by_name(\n",
    "        \"{}/conv_2/add:0\".format(namespace)), sess)\n",
    "    plt.show()"
   ]
  },
  {
   "cell_type": "markdown",
   "metadata": {},
   "source": [
    "### Question 9\n",
    "\n",
    "Discuss how you used the visual output of your trained network's feature maps to show that it had learned to look for interesting characteristics in traffic sign images\n"
   ]
  },
  {
   "cell_type": "markdown",
   "metadata": {},
   "source": [
    "**Answer:**"
   ]
  },
  {
   "cell_type": "markdown",
   "metadata": {},
   "source": [
    "> **Note**: Once you have completed all of the code implementations and successfully answered each question above, you may finalize your work by exporting the iPython Notebook as an HTML document. You can do this by using the menu above and navigating to  \\n\",\n",
    "    \"**File -> Download as -> HTML (.html)**. Include the finished document along with this notebook as your submission."
   ]
  },
  {
   "cell_type": "markdown",
   "metadata": {},
   "source": [
    "### Project Writeup\n",
    "\n",
    "Once you have completed the code implementation, document your results in a project writeup using this [template](https://github.com/udacity/CarND-Traffic-Sign-Classifier-Project/blob/master/writeup_template.md) as a guide. The writeup can be in a markdown or pdf file. "
   ]
  }
 ],
 "metadata": {
  "anaconda-cloud": {},
  "kernelspec": {
   "display_name": "Python 3",
   "language": "python",
   "name": "python3"
  },
  "language_info": {
   "codemirror_mode": {
    "name": "ipython",
    "version": 3
   },
   "file_extension": ".py",
   "mimetype": "text/x-python",
   "name": "python",
   "nbconvert_exporter": "python",
   "pygments_lexer": "ipython3",
   "version": "3.6.0"
  }
 },
 "nbformat": 4,
 "nbformat_minor": 0
}
